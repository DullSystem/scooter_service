{
 "cells": [
  {
   "cell_type": "markdown",
   "id": "1f80b9a3-18de-4b06-a92c-aef16954994d",
   "metadata": {},
   "source": [
    "### Кратий план работы:\n",
    "**Анализ сервиса аренды самокатов GoFast:**\n",
    "1. Открыть файл и посмотреть информацию, посмотреть наличие пропусков и дубликатов, зафиксировать начальные данные.\n",
    "2. Произвести замену или удаление пропусков, а так же изменить дублирующиеся строки.\n",
    "3. Произвести исследовательский анализ с помощью графиков и гистрограмм.\n",
    "4. Объеденить данные о пользователях, визуализировать.\n",
    "5. Подсчитать выручку по датафреймам.\n",
    "6. Произвести проверку гипотез.\n",
    "7. Подобрать параметры распределения.\n",
    "8. Написать предварительные выводы, а так же общий вывод."
   ]
  },
  {
   "cell_type": "markdown",
   "id": "1280edef-2120-4d67-b6ab-1fd0a53628c6",
   "metadata": {},
   "source": [
    "# Шаг №1 Загрузка данных"
   ]
  },
  {
   "cell_type": "markdown",
   "id": "4080414f-ab38-4375-b189-12a1bf589d2f",
   "metadata": {},
   "source": [
    "## Открываем файл и смотрим общую информацию¶"
   ]
  },
  {
   "cell_type": "code",
   "execution_count": 1,
   "id": "be6ac40f-dab1-49ac-97a5-8d4872e2f43d",
   "metadata": {},
   "outputs": [],
   "source": [
    "import pandas as pd\n",
    "import matplotlib.pyplot as plt\n",
    "import numpy as np\n",
    "from scipy import stats as st\n",
    "from scipy.stats import binom\n",
    "import seaborn as sns"
   ]
  },
  {
   "cell_type": "code",
   "execution_count": 2,
   "id": "4d95ed9c-ada4-42e7-90e3-258da9a64c30",
   "metadata": {},
   "outputs": [],
   "source": [
    "# open file\n",
    "try:\n",
    "    users_go = pd.read_csv('/datasets/users_go.csv')\n",
    "    rides = pd.read_csv('/datasets/rides_go.csv')\n",
    "    subscriptions_go = pd.read_csv('/datasets/subscriptions_go.csv')\n",
    "except:\n",
    "    users_go_url = 'https://drive.google.com/file/d/1ZAs833YDVIGOrFurDXsKu60s0aZoKBm8/view?usp=drive_link'\n",
    "    rides_go_url = 'https://drive.google.com/file/d/1eTYBLyWOniaw-Cpuhlo5Ctj9-DMWbiaO/view?usp=drive_link'\n",
    "    subscriptions_go_url = 'https://drive.google.com/file/d/1Ypbi51XUJlh88bT9CH1-9ZXhhcU8hZHC/view?usp=drive_link'\n",
    "    \n",
    "    path_users_go = 'https://drive.google.com/uc?export=download&id='+users_go_url.split('/')[-2]\n",
    "    path_rides_go = 'https://drive.google.com/uc?export=download&id='+rides_go_url.split('/')[-2]\n",
    "    path_subscriptions_go = 'https://drive.google.com/uc?export=download&id='+subscriptions_go_url.split('/')[-2]\n",
    "    \n",
    "    users_go = pd.read_csv(path_users_go)\n",
    "    rides_go = pd.read_csv(path_rides_go, parse_dates=['date'])\n",
    "    subscriptions_go = pd.read_csv(path_subscriptions_go)\n",
    "    \n",
    "\n"
   ]
  },
  {
   "cell_type": "code",
   "execution_count": 3,
   "id": "98231931-72e2-47a7-918a-466812337626",
   "metadata": {},
   "outputs": [],
   "source": [
    "# Функция для просмотра информации о DataFrame\n",
    "def info_data_frame (x):\n",
    "    return display(x.info(), \n",
    "        'Вывод первых 5 строчек:', x.head(), \n",
    "        f'Число строк : {x.shape[0]}', \n",
    "        f'Число столбцов : {x.shape[1]}', \n",
    "        f'Количество дубликатов = {x.duplicated().sum()}')"
   ]
  },
  {
   "cell_type": "code",
   "execution_count": 4,
   "id": "d553d717-dd91-4cee-bb84-88c3c0f4acd9",
   "metadata": {},
   "outputs": [
    {
     "name": "stdout",
     "output_type": "stream",
     "text": [
      "<class 'pandas.core.frame.DataFrame'>\n",
      "RangeIndex: 1565 entries, 0 to 1564\n",
      "Data columns (total 5 columns):\n",
      " #   Column             Non-Null Count  Dtype \n",
      "---  ------             --------------  ----- \n",
      " 0   user_id            1565 non-null   int64 \n",
      " 1   name               1565 non-null   object\n",
      " 2   age                1565 non-null   int64 \n",
      " 3   city               1565 non-null   object\n",
      " 4   subscription_type  1565 non-null   object\n",
      "dtypes: int64(2), object(3)\n",
      "memory usage: 61.3+ KB\n"
     ]
    },
    {
     "data": {
      "text/plain": [
       "None"
      ]
     },
     "metadata": {},
     "output_type": "display_data"
    },
    {
     "data": {
      "text/plain": [
       "'Вывод первых 5 строчек:'"
      ]
     },
     "metadata": {},
     "output_type": "display_data"
    },
    {
     "data": {
      "text/html": [
       "<div>\n",
       "<style scoped>\n",
       "    .dataframe tbody tr th:only-of-type {\n",
       "        vertical-align: middle;\n",
       "    }\n",
       "\n",
       "    .dataframe tbody tr th {\n",
       "        vertical-align: top;\n",
       "    }\n",
       "\n",
       "    .dataframe thead th {\n",
       "        text-align: right;\n",
       "    }\n",
       "</style>\n",
       "<table border=\"1\" class=\"dataframe\">\n",
       "  <thead>\n",
       "    <tr style=\"text-align: right;\">\n",
       "      <th></th>\n",
       "      <th>user_id</th>\n",
       "      <th>name</th>\n",
       "      <th>age</th>\n",
       "      <th>city</th>\n",
       "      <th>subscription_type</th>\n",
       "    </tr>\n",
       "  </thead>\n",
       "  <tbody>\n",
       "    <tr>\n",
       "      <th>0</th>\n",
       "      <td>1</td>\n",
       "      <td>Кира</td>\n",
       "      <td>22</td>\n",
       "      <td>Тюмень</td>\n",
       "      <td>ultra</td>\n",
       "    </tr>\n",
       "    <tr>\n",
       "      <th>1</th>\n",
       "      <td>2</td>\n",
       "      <td>Станислав</td>\n",
       "      <td>31</td>\n",
       "      <td>Омск</td>\n",
       "      <td>ultra</td>\n",
       "    </tr>\n",
       "    <tr>\n",
       "      <th>2</th>\n",
       "      <td>3</td>\n",
       "      <td>Алексей</td>\n",
       "      <td>20</td>\n",
       "      <td>Москва</td>\n",
       "      <td>ultra</td>\n",
       "    </tr>\n",
       "    <tr>\n",
       "      <th>3</th>\n",
       "      <td>4</td>\n",
       "      <td>Константин</td>\n",
       "      <td>26</td>\n",
       "      <td>Ростов-на-Дону</td>\n",
       "      <td>ultra</td>\n",
       "    </tr>\n",
       "    <tr>\n",
       "      <th>4</th>\n",
       "      <td>5</td>\n",
       "      <td>Адель</td>\n",
       "      <td>28</td>\n",
       "      <td>Омск</td>\n",
       "      <td>ultra</td>\n",
       "    </tr>\n",
       "  </tbody>\n",
       "</table>\n",
       "</div>"
      ],
      "text/plain": [
       "   user_id        name  age            city subscription_type\n",
       "0        1        Кира   22          Тюмень             ultra\n",
       "1        2   Станислав   31            Омск             ultra\n",
       "2        3     Алексей   20          Москва             ultra\n",
       "3        4  Константин   26  Ростов-на-Дону             ultra\n",
       "4        5       Адель   28            Омск             ultra"
      ]
     },
     "metadata": {},
     "output_type": "display_data"
    },
    {
     "data": {
      "text/plain": [
       "'Число строк : 1565'"
      ]
     },
     "metadata": {},
     "output_type": "display_data"
    },
    {
     "data": {
      "text/plain": [
       "'Число столбцов : 5'"
      ]
     },
     "metadata": {},
     "output_type": "display_data"
    },
    {
     "data": {
      "text/plain": [
       "'Количество дубликатов = 31'"
      ]
     },
     "metadata": {},
     "output_type": "display_data"
    }
   ],
   "source": [
    "info_data_frame(users_go)"
   ]
  },
  {
   "cell_type": "code",
   "execution_count": 5,
   "id": "a5faf499-d3fb-4059-9288-bf58f88f5cf9",
   "metadata": {},
   "outputs": [
    {
     "name": "stdout",
     "output_type": "stream",
     "text": [
      "<class 'pandas.core.frame.DataFrame'>\n",
      "RangeIndex: 18068 entries, 0 to 18067\n",
      "Data columns (total 4 columns):\n",
      " #   Column    Non-Null Count  Dtype         \n",
      "---  ------    --------------  -----         \n",
      " 0   user_id   18068 non-null  int64         \n",
      " 1   distance  18068 non-null  float64       \n",
      " 2   duration  18068 non-null  float64       \n",
      " 3   date      18068 non-null  datetime64[ns]\n",
      "dtypes: datetime64[ns](1), float64(2), int64(1)\n",
      "memory usage: 564.8 KB\n"
     ]
    },
    {
     "data": {
      "text/plain": [
       "None"
      ]
     },
     "metadata": {},
     "output_type": "display_data"
    },
    {
     "data": {
      "text/plain": [
       "'Вывод первых 5 строчек:'"
      ]
     },
     "metadata": {},
     "output_type": "display_data"
    },
    {
     "data": {
      "text/html": [
       "<div>\n",
       "<style scoped>\n",
       "    .dataframe tbody tr th:only-of-type {\n",
       "        vertical-align: middle;\n",
       "    }\n",
       "\n",
       "    .dataframe tbody tr th {\n",
       "        vertical-align: top;\n",
       "    }\n",
       "\n",
       "    .dataframe thead th {\n",
       "        text-align: right;\n",
       "    }\n",
       "</style>\n",
       "<table border=\"1\" class=\"dataframe\">\n",
       "  <thead>\n",
       "    <tr style=\"text-align: right;\">\n",
       "      <th></th>\n",
       "      <th>user_id</th>\n",
       "      <th>distance</th>\n",
       "      <th>duration</th>\n",
       "      <th>date</th>\n",
       "    </tr>\n",
       "  </thead>\n",
       "  <tbody>\n",
       "    <tr>\n",
       "      <th>0</th>\n",
       "      <td>1</td>\n",
       "      <td>4409.919140</td>\n",
       "      <td>25.599769</td>\n",
       "      <td>2021-01-01</td>\n",
       "    </tr>\n",
       "    <tr>\n",
       "      <th>1</th>\n",
       "      <td>1</td>\n",
       "      <td>2617.592153</td>\n",
       "      <td>15.816871</td>\n",
       "      <td>2021-01-18</td>\n",
       "    </tr>\n",
       "    <tr>\n",
       "      <th>2</th>\n",
       "      <td>1</td>\n",
       "      <td>754.159807</td>\n",
       "      <td>6.232113</td>\n",
       "      <td>2021-04-20</td>\n",
       "    </tr>\n",
       "    <tr>\n",
       "      <th>3</th>\n",
       "      <td>1</td>\n",
       "      <td>2694.783254</td>\n",
       "      <td>18.511000</td>\n",
       "      <td>2021-08-11</td>\n",
       "    </tr>\n",
       "    <tr>\n",
       "      <th>4</th>\n",
       "      <td>1</td>\n",
       "      <td>4028.687306</td>\n",
       "      <td>26.265803</td>\n",
       "      <td>2021-08-28</td>\n",
       "    </tr>\n",
       "  </tbody>\n",
       "</table>\n",
       "</div>"
      ],
      "text/plain": [
       "   user_id     distance   duration       date\n",
       "0        1  4409.919140  25.599769 2021-01-01\n",
       "1        1  2617.592153  15.816871 2021-01-18\n",
       "2        1   754.159807   6.232113 2021-04-20\n",
       "3        1  2694.783254  18.511000 2021-08-11\n",
       "4        1  4028.687306  26.265803 2021-08-28"
      ]
     },
     "metadata": {},
     "output_type": "display_data"
    },
    {
     "data": {
      "text/plain": [
       "'Число строк : 18068'"
      ]
     },
     "metadata": {},
     "output_type": "display_data"
    },
    {
     "data": {
      "text/plain": [
       "'Число столбцов : 4'"
      ]
     },
     "metadata": {},
     "output_type": "display_data"
    },
    {
     "data": {
      "text/plain": [
       "'Количество дубликатов = 0'"
      ]
     },
     "metadata": {},
     "output_type": "display_data"
    }
   ],
   "source": [
    "info_data_frame(rides_go)"
   ]
  },
  {
   "cell_type": "code",
   "execution_count": 6,
   "id": "40737628-e87e-45ef-9e3c-651b3ea2b7ec",
   "metadata": {},
   "outputs": [
    {
     "name": "stdout",
     "output_type": "stream",
     "text": [
      "<class 'pandas.core.frame.DataFrame'>\n",
      "RangeIndex: 2 entries, 0 to 1\n",
      "Data columns (total 4 columns):\n",
      " #   Column             Non-Null Count  Dtype \n",
      "---  ------             --------------  ----- \n",
      " 0   subscription_type  2 non-null      object\n",
      " 1   minute_price       2 non-null      int64 \n",
      " 2   start_ride_price   2 non-null      int64 \n",
      " 3   subscription_fee   2 non-null      int64 \n",
      "dtypes: int64(3), object(1)\n",
      "memory usage: 192.0+ bytes\n"
     ]
    },
    {
     "data": {
      "text/plain": [
       "None"
      ]
     },
     "metadata": {},
     "output_type": "display_data"
    },
    {
     "data": {
      "text/plain": [
       "'Вывод первых 5 строчек:'"
      ]
     },
     "metadata": {},
     "output_type": "display_data"
    },
    {
     "data": {
      "text/html": [
       "<div>\n",
       "<style scoped>\n",
       "    .dataframe tbody tr th:only-of-type {\n",
       "        vertical-align: middle;\n",
       "    }\n",
       "\n",
       "    .dataframe tbody tr th {\n",
       "        vertical-align: top;\n",
       "    }\n",
       "\n",
       "    .dataframe thead th {\n",
       "        text-align: right;\n",
       "    }\n",
       "</style>\n",
       "<table border=\"1\" class=\"dataframe\">\n",
       "  <thead>\n",
       "    <tr style=\"text-align: right;\">\n",
       "      <th></th>\n",
       "      <th>subscription_type</th>\n",
       "      <th>minute_price</th>\n",
       "      <th>start_ride_price</th>\n",
       "      <th>subscription_fee</th>\n",
       "    </tr>\n",
       "  </thead>\n",
       "  <tbody>\n",
       "    <tr>\n",
       "      <th>0</th>\n",
       "      <td>free</td>\n",
       "      <td>8</td>\n",
       "      <td>50</td>\n",
       "      <td>0</td>\n",
       "    </tr>\n",
       "    <tr>\n",
       "      <th>1</th>\n",
       "      <td>ultra</td>\n",
       "      <td>6</td>\n",
       "      <td>0</td>\n",
       "      <td>199</td>\n",
       "    </tr>\n",
       "  </tbody>\n",
       "</table>\n",
       "</div>"
      ],
      "text/plain": [
       "  subscription_type  minute_price  start_ride_price  subscription_fee\n",
       "0              free             8                50                 0\n",
       "1             ultra             6                 0               199"
      ]
     },
     "metadata": {},
     "output_type": "display_data"
    },
    {
     "data": {
      "text/plain": [
       "'Число строк : 2'"
      ]
     },
     "metadata": {},
     "output_type": "display_data"
    },
    {
     "data": {
      "text/plain": [
       "'Число столбцов : 4'"
      ]
     },
     "metadata": {},
     "output_type": "display_data"
    },
    {
     "data": {
      "text/plain": [
       "'Количество дубликатов = 0'"
      ]
     },
     "metadata": {},
     "output_type": "display_data"
    }
   ],
   "source": [
    "info_data_frame(subscriptions_go)"
   ]
  },
  {
   "cell_type": "markdown",
   "id": "935a4fa6-78c0-4fa0-be5f-9d0854d86c5f",
   "metadata": {},
   "source": [
    "<div style=\"color: #000000; border-radius: 10px; box-shadow: 2px 2px 4px; border: 1px solid; background:#DCDCDC; padding: 10px;\">\n",
    "    \n",
    "**Вывод по разделу:** \n",
    "\n",
    "Выведена информация по каждому датафрейму:\n",
    "1. users_go имеет 1565 строк, 5 столбцов, в которых присутствуют явные дубликаты - 31, пропуски отсутсвуют\n",
    "2. rides_go имеет 18068 строк, 5 столбцов, в которых нет явных дубликатов и пропусков.\n",
    "3. subscriptions_go имеет 2 строки и 4 столбца, в которых нет явных дубликатов.</div>"
   ]
  },
  {
   "cell_type": "markdown",
   "id": "190ee9df-6076-4352-92d4-2b61e0dbf6f1",
   "metadata": {},
   "source": [
    "# Шаг №2 Предобработка данных"
   ]
  },
  {
   "cell_type": "markdown",
   "id": "f0cb782a-5301-4555-874f-b17dd8daf4f2",
   "metadata": {},
   "source": [
    "## Приведение столбца `date` в DataFrame `rides_go` к типу pandas"
   ]
  },
  {
   "cell_type": "code",
   "execution_count": 7,
   "id": "a30d9415-9e44-4aaf-91a1-fb5ab5c5a2ff",
   "metadata": {},
   "outputs": [
    {
     "name": "stdout",
     "output_type": "stream",
     "text": [
      "<class 'pandas.core.frame.DataFrame'>\n",
      "RangeIndex: 18068 entries, 0 to 18067\n",
      "Data columns (total 4 columns):\n",
      " #   Column    Non-Null Count  Dtype         \n",
      "---  ------    --------------  -----         \n",
      " 0   user_id   18068 non-null  int64         \n",
      " 1   distance  18068 non-null  float64       \n",
      " 2   duration  18068 non-null  float64       \n",
      " 3   date      18068 non-null  datetime64[ns]\n",
      "dtypes: datetime64[ns](1), float64(2), int64(1)\n",
      "memory usage: 564.8 KB\n"
     ]
    }
   ],
   "source": [
    "rides_go.info()"
   ]
  },
  {
   "cell_type": "markdown",
   "id": "d9204e52-84fe-4688-8659-6c02195153df",
   "metadata": {},
   "source": [
    "<div style=\"color: #000000; border-left: 3px solid #DCDCDC; border-right: 3px solid #DCDCDC; margin-left: 20px; padding-left: 10px\">\n",
    "\n",
    "**Вывод:** Столбец `date` приведен к типу datetime\n",
    "</div>"
   ]
  },
  {
   "cell_type": "code",
   "execution_count": 8,
   "id": "e4c264a7-f416-47e6-9294-67ac478d2c52",
   "metadata": {},
   "outputs": [
    {
     "data": {
      "text/html": [
       "<div>\n",
       "<style scoped>\n",
       "    .dataframe tbody tr th:only-of-type {\n",
       "        vertical-align: middle;\n",
       "    }\n",
       "\n",
       "    .dataframe tbody tr th {\n",
       "        vertical-align: top;\n",
       "    }\n",
       "\n",
       "    .dataframe thead th {\n",
       "        text-align: right;\n",
       "    }\n",
       "</style>\n",
       "<table border=\"1\" class=\"dataframe\">\n",
       "  <thead>\n",
       "    <tr style=\"text-align: right;\">\n",
       "      <th></th>\n",
       "      <th>user_id</th>\n",
       "      <th>distance</th>\n",
       "      <th>duration</th>\n",
       "      <th>date</th>\n",
       "    </tr>\n",
       "  </thead>\n",
       "  <tbody>\n",
       "    <tr>\n",
       "      <th>0</th>\n",
       "      <td>1</td>\n",
       "      <td>4409.919140</td>\n",
       "      <td>25.599769</td>\n",
       "      <td>2021-01-01</td>\n",
       "    </tr>\n",
       "    <tr>\n",
       "      <th>1</th>\n",
       "      <td>1</td>\n",
       "      <td>2617.592153</td>\n",
       "      <td>15.816871</td>\n",
       "      <td>2021-01-18</td>\n",
       "    </tr>\n",
       "    <tr>\n",
       "      <th>2</th>\n",
       "      <td>1</td>\n",
       "      <td>754.159807</td>\n",
       "      <td>6.232113</td>\n",
       "      <td>2021-04-20</td>\n",
       "    </tr>\n",
       "    <tr>\n",
       "      <th>3</th>\n",
       "      <td>1</td>\n",
       "      <td>2694.783254</td>\n",
       "      <td>18.511000</td>\n",
       "      <td>2021-08-11</td>\n",
       "    </tr>\n",
       "    <tr>\n",
       "      <th>4</th>\n",
       "      <td>1</td>\n",
       "      <td>4028.687306</td>\n",
       "      <td>26.265803</td>\n",
       "      <td>2021-08-28</td>\n",
       "    </tr>\n",
       "  </tbody>\n",
       "</table>\n",
       "</div>"
      ],
      "text/plain": [
       "   user_id     distance   duration       date\n",
       "0        1  4409.919140  25.599769 2021-01-01\n",
       "1        1  2617.592153  15.816871 2021-01-18\n",
       "2        1   754.159807   6.232113 2021-04-20\n",
       "3        1  2694.783254  18.511000 2021-08-11\n",
       "4        1  4028.687306  26.265803 2021-08-28"
      ]
     },
     "execution_count": 8,
     "metadata": {},
     "output_type": "execute_result"
    }
   ],
   "source": [
    "rides_go.head()"
   ]
  },
  {
   "cell_type": "markdown",
   "id": "3a4d1b65-6c11-4489-86f7-64f40329365c",
   "metadata": {},
   "source": [
    "## Приведение столбца `distance` и `duration` к целочисленным значениям"
   ]
  },
  {
   "cell_type": "code",
   "execution_count": 89,
   "id": "03c83f23-f054-4672-8f26-79630537d4ba",
   "metadata": {},
   "outputs": [],
   "source": [
    "rides_go['distance'] = rides_go['distance'].round(2) # Приведение столбца distance к 2 знакам после запятой"
   ]
  },
  {
   "cell_type": "code",
   "execution_count": 10,
   "id": "df1b48b6-3d15-4de8-80a5-4d887e51184c",
   "metadata": {},
   "outputs": [
    {
     "data": {
      "text/plain": [
       "0    4409.92\n",
       "1    2617.59\n",
       "2     754.16\n",
       "3    2694.78\n",
       "4    4028.69\n",
       "Name: distance, dtype: float64"
      ]
     },
     "execution_count": 10,
     "metadata": {},
     "output_type": "execute_result"
    }
   ],
   "source": [
    "rides_go['distance'].head()"
   ]
  },
  {
   "cell_type": "code",
   "execution_count": 90,
   "id": "74ae3839-7039-48c1-834c-83fb2e6cf8a5",
   "metadata": {},
   "outputs": [
    {
     "data": {
      "text/plain": [
       "0    26\n",
       "1    16\n",
       "2     7\n",
       "3    19\n",
       "4    27\n",
       "Name: duration, dtype: int32"
      ]
     },
     "execution_count": 90,
     "metadata": {},
     "output_type": "execute_result"
    }
   ],
   "source": [
    "rides_go['duration'].head() # Проверка до округления"
   ]
  },
  {
   "cell_type": "code",
   "execution_count": 12,
   "id": "5edc34d7-8458-4573-88af-4fa6bc244ee5",
   "metadata": {},
   "outputs": [],
   "source": [
    "rides_go['duration'] = np.ceil(rides_go['duration']) # Округление до потолка"
   ]
  },
  {
   "cell_type": "code",
   "execution_count": 13,
   "id": "17c3a72e-3381-4713-bbce-28779caa5323",
   "metadata": {},
   "outputs": [],
   "source": [
    "rides_go['duration'] = rides_go['duration'].astype(int) # Приведение к целочисленному значению"
   ]
  },
  {
   "cell_type": "code",
   "execution_count": 14,
   "id": "bc0abedc-062b-4bef-ba6b-a8998cd92439",
   "metadata": {},
   "outputs": [
    {
     "data": {
      "text/plain": [
       "0    26\n",
       "1    16\n",
       "2     7\n",
       "3    19\n",
       "4    27\n",
       "Name: duration, dtype: int32"
      ]
     },
     "execution_count": 14,
     "metadata": {},
     "output_type": "execute_result"
    }
   ],
   "source": [
    "rides_go['duration'].head()"
   ]
  },
  {
   "cell_type": "markdown",
   "id": "3023e403-eb16-4dcb-9bfe-4a87994a86b9",
   "metadata": {},
   "source": [
    "## Создание столбца с номером месяца"
   ]
  },
  {
   "cell_type": "code",
   "execution_count": 15,
   "id": "c509d222-c152-49cd-a28a-a093f928f0f0",
   "metadata": {},
   "outputs": [],
   "source": [
    "rides_go['date_month'] = rides_go['date'].dt.month"
   ]
  },
  {
   "cell_type": "code",
   "execution_count": 16,
   "id": "bd986c61-3e0c-4791-9b8c-3de2485109ca",
   "metadata": {},
   "outputs": [
    {
     "data": {
      "text/html": [
       "<div>\n",
       "<style scoped>\n",
       "    .dataframe tbody tr th:only-of-type {\n",
       "        vertical-align: middle;\n",
       "    }\n",
       "\n",
       "    .dataframe tbody tr th {\n",
       "        vertical-align: top;\n",
       "    }\n",
       "\n",
       "    .dataframe thead th {\n",
       "        text-align: right;\n",
       "    }\n",
       "</style>\n",
       "<table border=\"1\" class=\"dataframe\">\n",
       "  <thead>\n",
       "    <tr style=\"text-align: right;\">\n",
       "      <th></th>\n",
       "      <th>user_id</th>\n",
       "      <th>distance</th>\n",
       "      <th>duration</th>\n",
       "      <th>date</th>\n",
       "      <th>date_month</th>\n",
       "    </tr>\n",
       "  </thead>\n",
       "  <tbody>\n",
       "    <tr>\n",
       "      <th>0</th>\n",
       "      <td>1</td>\n",
       "      <td>4409.92</td>\n",
       "      <td>26</td>\n",
       "      <td>2021-01-01</td>\n",
       "      <td>1</td>\n",
       "    </tr>\n",
       "    <tr>\n",
       "      <th>1</th>\n",
       "      <td>1</td>\n",
       "      <td>2617.59</td>\n",
       "      <td>16</td>\n",
       "      <td>2021-01-18</td>\n",
       "      <td>1</td>\n",
       "    </tr>\n",
       "    <tr>\n",
       "      <th>2</th>\n",
       "      <td>1</td>\n",
       "      <td>754.16</td>\n",
       "      <td>7</td>\n",
       "      <td>2021-04-20</td>\n",
       "      <td>4</td>\n",
       "    </tr>\n",
       "    <tr>\n",
       "      <th>3</th>\n",
       "      <td>1</td>\n",
       "      <td>2694.78</td>\n",
       "      <td>19</td>\n",
       "      <td>2021-08-11</td>\n",
       "      <td>8</td>\n",
       "    </tr>\n",
       "    <tr>\n",
       "      <th>4</th>\n",
       "      <td>1</td>\n",
       "      <td>4028.69</td>\n",
       "      <td>27</td>\n",
       "      <td>2021-08-28</td>\n",
       "      <td>8</td>\n",
       "    </tr>\n",
       "  </tbody>\n",
       "</table>\n",
       "</div>"
      ],
      "text/plain": [
       "   user_id  distance  duration       date  date_month\n",
       "0        1   4409.92        26 2021-01-01           1\n",
       "1        1   2617.59        16 2021-01-18           1\n",
       "2        1    754.16         7 2021-04-20           4\n",
       "3        1   2694.78        19 2021-08-11           8\n",
       "4        1   4028.69        27 2021-08-28           8"
      ]
     },
     "execution_count": 16,
     "metadata": {},
     "output_type": "execute_result"
    }
   ],
   "source": [
    "rides_go.head()"
   ]
  },
  {
   "cell_type": "code",
   "execution_count": 17,
   "id": "278089ee-5ee9-4f3d-8f53-3fbfd6fa0867",
   "metadata": {},
   "outputs": [
    {
     "name": "stdout",
     "output_type": "stream",
     "text": [
      "Данные собраны за период  2021-01-01 00:00:00 по 2021-12-30 00:00:00\n"
     ]
    }
   ],
   "source": [
    "print(f\"Данные собраны за период  {rides_go['date'].min()} по {rides_go['date'].max()}\")"
   ]
  },
  {
   "cell_type": "markdown",
   "id": "a102c42d-4727-4f5a-bb20-71889bfe6033",
   "metadata": {},
   "source": [
    "## Обработка дубликатов и пропущенных значений"
   ]
  },
  {
   "cell_type": "markdown",
   "id": "3397f10a-67bb-4373-b766-ac2495e709ea",
   "metadata": {},
   "source": [
    "### Обработка DataFrame `users_go`"
   ]
  },
  {
   "cell_type": "code",
   "execution_count": 18,
   "id": "42119b74-c0bc-473a-a623-2135a643dd7a",
   "metadata": {},
   "outputs": [
    {
     "data": {
      "text/html": [
       "<div>\n",
       "<style scoped>\n",
       "    .dataframe tbody tr th:only-of-type {\n",
       "        vertical-align: middle;\n",
       "    }\n",
       "\n",
       "    .dataframe tbody tr th {\n",
       "        vertical-align: top;\n",
       "    }\n",
       "\n",
       "    .dataframe thead th {\n",
       "        text-align: right;\n",
       "    }\n",
       "</style>\n",
       "<table border=\"1\" class=\"dataframe\">\n",
       "  <thead>\n",
       "    <tr style=\"text-align: right;\">\n",
       "      <th></th>\n",
       "      <th>user_id</th>\n",
       "      <th>name</th>\n",
       "      <th>age</th>\n",
       "      <th>city</th>\n",
       "      <th>subscription_type</th>\n",
       "    </tr>\n",
       "  </thead>\n",
       "  <tbody>\n",
       "    <tr>\n",
       "      <th>1560</th>\n",
       "      <td>829</td>\n",
       "      <td>Федор</td>\n",
       "      <td>29</td>\n",
       "      <td>Пятигорск</td>\n",
       "      <td>free</td>\n",
       "    </tr>\n",
       "    <tr>\n",
       "      <th>1561</th>\n",
       "      <td>809</td>\n",
       "      <td>Юрий</td>\n",
       "      <td>26</td>\n",
       "      <td>Сочи</td>\n",
       "      <td>free</td>\n",
       "    </tr>\n",
       "    <tr>\n",
       "      <th>1562</th>\n",
       "      <td>307</td>\n",
       "      <td>Ясмина</td>\n",
       "      <td>19</td>\n",
       "      <td>Краснодар</td>\n",
       "      <td>ultra</td>\n",
       "    </tr>\n",
       "    <tr>\n",
       "      <th>1563</th>\n",
       "      <td>47</td>\n",
       "      <td>Юрий</td>\n",
       "      <td>28</td>\n",
       "      <td>Тюмень</td>\n",
       "      <td>ultra</td>\n",
       "    </tr>\n",
       "    <tr>\n",
       "      <th>1564</th>\n",
       "      <td>1045</td>\n",
       "      <td>Артемий</td>\n",
       "      <td>28</td>\n",
       "      <td>Ростов-на-Дону</td>\n",
       "      <td>free</td>\n",
       "    </tr>\n",
       "  </tbody>\n",
       "</table>\n",
       "</div>"
      ],
      "text/plain": [
       "      user_id     name  age            city subscription_type\n",
       "1560      829    Федор   29       Пятигорск              free\n",
       "1561      809     Юрий   26            Сочи              free\n",
       "1562      307   Ясмина   19       Краснодар             ultra\n",
       "1563       47     Юрий   28          Тюмень             ultra\n",
       "1564     1045  Артемий   28  Ростов-на-Дону              free"
      ]
     },
     "execution_count": 18,
     "metadata": {},
     "output_type": "execute_result"
    }
   ],
   "source": [
    "users_go[users_go.duplicated(keep=False)].tail() #Показать дубликаты"
   ]
  },
  {
   "cell_type": "code",
   "execution_count": 19,
   "id": "f4f1d2f7-83ad-4afa-b08e-c4480dfabbbe",
   "metadata": {},
   "outputs": [],
   "source": [
    "users_go.drop_duplicates(inplace=True)# Удаление дубликатов "
   ]
  },
  {
   "cell_type": "code",
   "execution_count": 20,
   "id": "cada0df2-454f-43b4-bfe2-0a22caba0b05",
   "metadata": {},
   "outputs": [
    {
     "data": {
      "text/plain": [
       "0"
      ]
     },
     "execution_count": 20,
     "metadata": {},
     "output_type": "execute_result"
    }
   ],
   "source": [
    "users_go.duplicated().sum()"
   ]
  },
  {
   "cell_type": "code",
   "execution_count": 21,
   "id": "1a4f0297-1d18-492b-ac97-71a888af5899",
   "metadata": {},
   "outputs": [
    {
     "name": "stdout",
     "output_type": "stream",
     "text": [
      "<class 'pandas.core.frame.DataFrame'>\n",
      "RangeIndex: 2 entries, 0 to 1\n",
      "Data columns (total 4 columns):\n",
      " #   Column             Non-Null Count  Dtype \n",
      "---  ------             --------------  ----- \n",
      " 0   subscription_type  2 non-null      object\n",
      " 1   minute_price       2 non-null      int64 \n",
      " 2   start_ride_price   2 non-null      int64 \n",
      " 3   subscription_fee   2 non-null      int64 \n",
      "dtypes: int64(3), object(1)\n",
      "memory usage: 192.0+ bytes\n"
     ]
    }
   ],
   "source": [
    "subscriptions_go.info()"
   ]
  },
  {
   "cell_type": "markdown",
   "id": "0419d6cc-b44d-4511-a98a-fb296d3bab79",
   "metadata": {},
   "source": [
    "<div style=\"color: #000000; border-radius: 10px; box-shadow: 2px 2px 4px; border: 1px solid; background:#DCDCDC; padding: 10px;\">\n",
    "\n",
    "**Вывод по разделу:** \n",
    "\n",
    "Обработан  DataFrame **`rides_go`**:\n",
    "    \n",
    "1. Столбец `date` приведен к типу datetime.\n",
    "2. Столбец `distance` округлён до 2х знаков после запятой.\n",
    "3. Столбец `duration` приведен к целочисленному значению.\n",
    "4. Добавлен новый столбец `date_month` с числом месяца.  \n",
    "    \n",
    "Обработан  DataFrame **`users_go`**:\n",
    "1. Удалены дубликаты.\n",
    "\n",
    "DataFrame **`subscriptions_go`** оставлен без изменения, пропусков и дубликатов не имеется.</div>"
   ]
  },
  {
   "cell_type": "markdown",
   "id": "7cb893a6-1f73-4005-9db6-96244383a743",
   "metadata": {},
   "source": [
    "<div style=\"border:solid: green 2px; padding: 20px></div>"
   ]
  },
  {
   "cell_type": "markdown",
   "id": "d8f440dc-0f64-4b1f-a044-988507e53d74",
   "metadata": {},
   "source": [
    "# Шаг №3 Исследовательский анализ данных"
   ]
  },
  {
   "cell_type": "markdown",
   "id": "96cf4bf1-e685-4d9f-9688-67cce9cd52d1",
   "metadata": {},
   "source": [
    "## Частота встречаемости городов"
   ]
  },
  {
   "cell_type": "code",
   "execution_count": 22,
   "id": "40f1b019-9e93-47d8-a947-effee8713953",
   "metadata": {},
   "outputs": [
    {
     "data": {
      "image/png": "[encoded data removed]",
      "text/plain": [
       "<Figure size 1200x600 with 1 Axes>"
      ]
     },
     "metadata": {},
     "output_type": "display_data"
    }
   ],
   "source": [
    "users_go.pivot_table(index='city', values='user_id', aggfunc='count').sort_values(by='user_id', ascending=False) \\\n",
    "    .plot(\n",
    "    title='Количество пользователей по городам',\n",
    "    kind='barh',\n",
    "    grid=True,\n",
    "    style='o-',\n",
    "    figsize=(12, 6)       \n",
    ")\n",
    "plt.xlabel('Название города', fontsize=12, fontweight=\"bold\")\n",
    "plt.ylabel('Количество пользователей', fontsize=12, fontweight=\"bold\")\n",
    "plt.show()"
   ]
  },
  {
   "cell_type": "code",
   "execution_count": 23,
   "id": "64ef95c7-3e60-4862-a34c-a10b545de45d",
   "metadata": {},
   "outputs": [
    {
     "data": {
      "text/html": [
       "<div>\n",
       "<style scoped>\n",
       "    .dataframe tbody tr th:only-of-type {\n",
       "        vertical-align: middle;\n",
       "    }\n",
       "\n",
       "    .dataframe tbody tr th {\n",
       "        vertical-align: top;\n",
       "    }\n",
       "\n",
       "    .dataframe thead th {\n",
       "        text-align: right;\n",
       "    }\n",
       "</style>\n",
       "<table border=\"1\" class=\"dataframe\">\n",
       "  <thead>\n",
       "    <tr style=\"text-align: right;\">\n",
       "      <th>city</th>\n",
       "      <th>Пятигорск</th>\n",
       "      <th>Екатеринбург</th>\n",
       "      <th>Ростов-на-Дону</th>\n",
       "      <th>Краснодар</th>\n",
       "      <th>Сочи</th>\n",
       "      <th>Омск</th>\n",
       "      <th>Тюмень</th>\n",
       "      <th>Москва</th>\n",
       "    </tr>\n",
       "  </thead>\n",
       "  <tbody>\n",
       "    <tr>\n",
       "      <th>user_id</th>\n",
       "      <td>219</td>\n",
       "      <td>204</td>\n",
       "      <td>198</td>\n",
       "      <td>193</td>\n",
       "      <td>189</td>\n",
       "      <td>183</td>\n",
       "      <td>180</td>\n",
       "      <td>168</td>\n",
       "    </tr>\n",
       "  </tbody>\n",
       "</table>\n",
       "</div>"
      ],
      "text/plain": [
       "city     Пятигорск  Екатеринбург  Ростов-на-Дону  Краснодар  Сочи  Омск  \\\n",
       "user_id        219           204             198        193   189   183   \n",
       "\n",
       "city     Тюмень  Москва  \n",
       "user_id     180     168  "
      ]
     },
     "execution_count": 23,
     "metadata": {},
     "output_type": "execute_result"
    }
   ],
   "source": [
    "users_go.pivot_table(index='city', values='user_id', aggfunc='count').sort_values(by='user_id', ascending=False).T"
   ]
  },
  {
   "cell_type": "code",
   "execution_count": 24,
   "id": "10882257-2a81-466d-905b-0a309590a175",
   "metadata": {},
   "outputs": [
    {
     "data": {
      "image/png": "[encoded data removed]",
      "text/plain": [
       "<Figure size 1200x1400 with 1 Axes>"
      ]
     },
     "metadata": {},
     "output_type": "display_data"
    }
   ],
   "source": [
    "color_list = '#DDA0DD', '#B0E0E6', '#90EE90', '#E9967A', '#FFFF00','#FFB6C1'\n",
    "users_go.pivot_table(index='city', values='user_id', aggfunc='count').sort_values(by='user_id', ascending=False) \\\n",
    "    .plot(\n",
    "    title='Количество пользователей по городам', \n",
    "    x='city',\n",
    "    y='user_id', \n",
    "    kind='pie',\n",
    "    figsize=(12, 14),\n",
    "    autopct='%1.0f%%',\n",
    "    colors=color_list,\n",
    "    fontsize=15\n",
    ")\n",
    "plt.ylabel(None)\n",
    "plt.show()"
   ]
  },
  {
   "cell_type": "markdown",
   "id": "16b1983b-23d6-46e1-b024-0b3eb06ab2cb",
   "metadata": {},
   "source": [
    "<div style=\"color: #000000; border-left: 3px solid #DCDCDC; border-right: 3px solid #DCDCDC; margin-left: 20px; padding-left: 10px\">\n",
    "\n",
    "**Вывод:** На основе графика можно сделать вывод, что в первую пятёрку городов с самым длинным сезоном проката входят четыре южных города: Пятигорск, Ростов-на-Дону, Краснодар. Исключением является Екатеринбург, который находится на втором месте. Различие между городами не является существенным, так как процентное соотношение в целом отражает равномерное распределение пользователей по городам. Разница между Пятигорском и Москвой составляет 30 %. Вероятно, это связано с тем, что в Пятигорске много мест отдыха и развлечений, и многие предпочитают перемещаться на электросамокатах. Также в Пятигорске более продолжительный сезон проката.\n",
    "</div>"
   ]
  },
  {
   "cell_type": "markdown",
   "id": "c90ba4b6-beef-4e83-9d5f-43739c8be287",
   "metadata": {},
   "source": [
    "## Соотношение пользователей с подпиской и без подписки"
   ]
  },
  {
   "cell_type": "code",
   "execution_count": 25,
   "id": "f9cea573-a39c-4256-8789-71966030cf4d",
   "metadata": {},
   "outputs": [
    {
     "data": {
      "image/png": "[encoded data removed]",
      "text/plain": [
       "<Figure size 1200x800 with 1 Axes>"
      ]
     },
     "metadata": {},
     "output_type": "display_data"
    }
   ],
   "source": [
    "color_list = '#DDA0DD', '#B0E0E6'\n",
    "users_go.pivot_table(index='subscription_type', values='user_id', aggfunc='count') \\\n",
    "    .plot(\n",
    "    x='subscription_type',\n",
    "    y='user_id', \n",
    "    kind='pie',\n",
    "    figsize=(12, 8),\n",
    "    autopct='%1.0f%%',\n",
    "    colors=color_list,\n",
    "    fontsize=15\n",
    ")\n",
    "plt.title('Диаграмма соотношения пользователей с подпиской и без', fontsize=15, fontweight=\"bold\")\n",
    "plt.ylabel('Пользователи', fontsize=15, fontweight=\"bold\")\n",
    "plt.show()"
   ]
  },
  {
   "cell_type": "code",
   "execution_count": 26,
   "id": "140697b6-fee0-4d40-a27c-f92e5ebb2ded",
   "metadata": {},
   "outputs": [
    {
     "data": {
      "text/html": [
       "<div>\n",
       "<style scoped>\n",
       "    .dataframe tbody tr th:only-of-type {\n",
       "        vertical-align: middle;\n",
       "    }\n",
       "\n",
       "    .dataframe tbody tr th {\n",
       "        vertical-align: top;\n",
       "    }\n",
       "\n",
       "    .dataframe thead th {\n",
       "        text-align: right;\n",
       "    }\n",
       "</style>\n",
       "<table border=\"1\" class=\"dataframe\">\n",
       "  <thead>\n",
       "    <tr style=\"text-align: right;\">\n",
       "      <th>subscription_type</th>\n",
       "      <th>free</th>\n",
       "      <th>ultra</th>\n",
       "    </tr>\n",
       "  </thead>\n",
       "  <tbody>\n",
       "    <tr>\n",
       "      <th>user_id</th>\n",
       "      <td>835</td>\n",
       "      <td>699</td>\n",
       "    </tr>\n",
       "  </tbody>\n",
       "</table>\n",
       "</div>"
      ],
      "text/plain": [
       "subscription_type  free  ultra\n",
       "user_id             835    699"
      ]
     },
     "execution_count": 26,
     "metadata": {},
     "output_type": "execute_result"
    }
   ],
   "source": [
    "users_go.pivot_table(index='subscription_type', values='user_id', aggfunc='count').T"
   ]
  },
  {
   "cell_type": "markdown",
   "id": "bc3ef068-a4f4-48e5-a2af-57e256df524a",
   "metadata": {},
   "source": [
    "<div style=\"color: #000000; border-left: 3px solid #DCDCDC; border-right: 3px solid #DCDCDC; margin-left: 20px; padding-left: 10px\">\n",
    "\n",
    "**Вывод:** На диаграмме и в сводной таблице видно, что количество пользователей без подписки превышает количество пользователей с платной подпиской.\n",
    "</div>"
   ]
  },
  {
   "cell_type": "markdown",
   "id": "df7a8c34-ca15-49b9-aaa9-e26b3b51d064",
   "metadata": {},
   "source": [
    "## Соотношение по возрасту пользователей"
   ]
  },
  {
   "cell_type": "code",
   "execution_count": 27,
   "id": "c467737f-a5a4-47d2-b88a-28c1da0bb2b9",
   "metadata": {},
   "outputs": [
    {
     "data": {
      "text/html": [
       "<div>\n",
       "<style scoped>\n",
       "    .dataframe tbody tr th:only-of-type {\n",
       "        vertical-align: middle;\n",
       "    }\n",
       "\n",
       "    .dataframe tbody tr th {\n",
       "        vertical-align: top;\n",
       "    }\n",
       "\n",
       "    .dataframe thead th {\n",
       "        text-align: right;\n",
       "    }\n",
       "</style>\n",
       "<table border=\"1\" class=\"dataframe\">\n",
       "  <thead>\n",
       "    <tr style=\"text-align: right;\">\n",
       "      <th></th>\n",
       "      <th>user_id</th>\n",
       "      <th>name</th>\n",
       "      <th>age</th>\n",
       "      <th>city</th>\n",
       "      <th>subscription_type</th>\n",
       "    </tr>\n",
       "  </thead>\n",
       "  <tbody>\n",
       "    <tr>\n",
       "      <th>0</th>\n",
       "      <td>1</td>\n",
       "      <td>Кира</td>\n",
       "      <td>22</td>\n",
       "      <td>Тюмень</td>\n",
       "      <td>ultra</td>\n",
       "    </tr>\n",
       "    <tr>\n",
       "      <th>1</th>\n",
       "      <td>2</td>\n",
       "      <td>Станислав</td>\n",
       "      <td>31</td>\n",
       "      <td>Омск</td>\n",
       "      <td>ultra</td>\n",
       "    </tr>\n",
       "    <tr>\n",
       "      <th>2</th>\n",
       "      <td>3</td>\n",
       "      <td>Алексей</td>\n",
       "      <td>20</td>\n",
       "      <td>Москва</td>\n",
       "      <td>ultra</td>\n",
       "    </tr>\n",
       "    <tr>\n",
       "      <th>3</th>\n",
       "      <td>4</td>\n",
       "      <td>Константин</td>\n",
       "      <td>26</td>\n",
       "      <td>Ростов-на-Дону</td>\n",
       "      <td>ultra</td>\n",
       "    </tr>\n",
       "    <tr>\n",
       "      <th>4</th>\n",
       "      <td>5</td>\n",
       "      <td>Адель</td>\n",
       "      <td>28</td>\n",
       "      <td>Омск</td>\n",
       "      <td>ultra</td>\n",
       "    </tr>\n",
       "  </tbody>\n",
       "</table>\n",
       "</div>"
      ],
      "text/plain": [
       "   user_id        name  age            city subscription_type\n",
       "0        1        Кира   22          Тюмень             ultra\n",
       "1        2   Станислав   31            Омск             ultra\n",
       "2        3     Алексей   20          Москва             ultra\n",
       "3        4  Константин   26  Ростов-на-Дону             ultra\n",
       "4        5       Адель   28            Омск             ultra"
      ]
     },
     "execution_count": 27,
     "metadata": {},
     "output_type": "execute_result"
    }
   ],
   "source": [
    "users_go.head()"
   ]
  },
  {
   "cell_type": "code",
   "execution_count": 28,
   "id": "61c6dc56-9274-4ea5-9db0-d76545580a83",
   "metadata": {},
   "outputs": [
    {
     "data": {
      "image/png": "[encoded data removed]",
      "text/plain": [
       "<Figure size 1000x800 with 1 Axes>"
      ]
     },
     "metadata": {},
     "output_type": "display_data"
    }
   ],
   "source": [
    "users_go.age \\\n",
    "    .plot(\n",
    "    kind='hist',\n",
    "    bins=100,\n",
    "    title='Соотношение возраста к количеству пользователей',\n",
    "    grid=True,\n",
    "    range=(10, 40),\n",
    "    figsize=(10, 8)       \n",
    ")\n",
    "plt.annotate(\"Пик на 25\", xy=(25, 143), xytext=(20, 145),\n",
    "            arrowprops=dict(facecolor='red', shrink=0.05))\n",
    "plt.xlabel('Возраст пользователей', fontsize=12, fontweight=\"bold\")\n",
    "plt.ylabel('Количество пользователей', fontsize=12, fontweight=\"bold\")\n",
    "plt.show()"
   ]
  },
  {
   "cell_type": "code",
   "execution_count": 29,
   "id": "fb5c310e-c7fa-4b32-8656-4348158d6222",
   "metadata": {},
   "outputs": [
    {
     "data": {
      "text/html": [
       "<div>\n",
       "<style scoped>\n",
       "    .dataframe tbody tr th:only-of-type {\n",
       "        vertical-align: middle;\n",
       "    }\n",
       "\n",
       "    .dataframe tbody tr th {\n",
       "        vertical-align: top;\n",
       "    }\n",
       "\n",
       "    .dataframe thead th {\n",
       "        text-align: right;\n",
       "    }\n",
       "</style>\n",
       "<table border=\"1\" class=\"dataframe\">\n",
       "  <thead>\n",
       "    <tr style=\"text-align: right;\">\n",
       "      <th>age</th>\n",
       "      <th>25</th>\n",
       "      <th>24</th>\n",
       "      <th>26</th>\n",
       "      <th>23</th>\n",
       "      <th>27</th>\n",
       "      <th>22</th>\n",
       "      <th>28</th>\n",
       "      <th>21</th>\n",
       "      <th>20</th>\n",
       "      <th>30</th>\n",
       "    </tr>\n",
       "  </thead>\n",
       "  <tbody>\n",
       "    <tr>\n",
       "      <th>user_id</th>\n",
       "      <td>145</td>\n",
       "      <td>132</td>\n",
       "      <td>131</td>\n",
       "      <td>129</td>\n",
       "      <td>119</td>\n",
       "      <td>119</td>\n",
       "      <td>112</td>\n",
       "      <td>93</td>\n",
       "      <td>71</td>\n",
       "      <td>68</td>\n",
       "    </tr>\n",
       "  </tbody>\n",
       "</table>\n",
       "</div>"
      ],
      "text/plain": [
       "age       25   24   26   23   27   22   28  21  20  30\n",
       "user_id  145  132  131  129  119  119  112  93  71  68"
      ]
     },
     "execution_count": 29,
     "metadata": {},
     "output_type": "execute_result"
    }
   ],
   "source": [
    "users_go.pivot_table(index='age', values='user_id', aggfunc='count').sort_values(by='user_id', ascending=False).head(10).T"
   ]
  },
  {
   "cell_type": "code",
   "execution_count": 30,
   "id": "0f0f13c2-a1af-497f-8d1e-42b4ae8d4777",
   "metadata": {},
   "outputs": [
    {
     "data": {
      "text/plain": [
       "count    1534.000000\n",
       "mean       24.903520\n",
       "std         4.572367\n",
       "min        12.000000\n",
       "25%        22.000000\n",
       "50%        25.000000\n",
       "75%        28.000000\n",
       "max        43.000000\n",
       "Name: age, dtype: float64"
      ]
     },
     "execution_count": 30,
     "metadata": {},
     "output_type": "execute_result"
    }
   ],
   "source": [
    "users_go['age'].describe()"
   ]
  },
  {
   "cell_type": "markdown",
   "id": "60cbb595-daae-4f8a-ab60-59cdc6bb8a19",
   "metadata": {},
   "source": [
    "<div style=\"color: #000000; border-left: 3px solid #DCDCDC; border-right: 3px solid #DCDCDC; margin-left: 20px; padding-left: 10px\">\n",
    "\n",
    "**Вывод:** График и таблица показывают, что основная масса пользователей находится в возрасте от 20 до 29 лет. Наибольшее количество пользователей — 25-летние, а наименьшее — 43-летние.\n",
    "</div>"
   ]
  },
  {
   "cell_type": "markdown",
   "id": "21dd25d8-9809-4be6-b6e3-a08c23d6db9e",
   "metadata": {},
   "source": [
    "## Расстояние, которое пользователь преодолел за одну поездку"
   ]
  },
  {
   "cell_type": "code",
   "execution_count": 31,
   "id": "e942b334-400d-4e23-bbf4-c4d7e79ecb9c",
   "metadata": {},
   "outputs": [
    {
     "data": {
      "text/plain": [
       "count    18068.00\n",
       "mean      3070.66\n",
       "std       1116.83\n",
       "min          0.86\n",
       "25%       2543.23\n",
       "50%       3133.61\n",
       "75%       3776.22\n",
       "max       7211.01\n",
       "Name: distance, dtype: float64"
      ]
     },
     "execution_count": 31,
     "metadata": {},
     "output_type": "execute_result"
    }
   ],
   "source": [
    "rides_go['distance'].describe().round(2)"
   ]
  },
  {
   "cell_type": "code",
   "execution_count": 32,
   "id": "68924f09-b54f-4424-89ff-a4ec6379365d",
   "metadata": {},
   "outputs": [
    {
     "data": {
      "image/png": "[encoded data removed]",
      "text/plain": [
       "<Figure size 1000x600 with 1 Axes>"
      ]
     },
     "metadata": {},
     "output_type": "display_data"
    }
   ],
   "source": [
    "rides_go.distance \\\n",
    "    .plot(\n",
    "    title='Число поездок в зависимости от дальности поездки',\n",
    "    kind='hist', \n",
    "    bins=400, \n",
    "    range=(1, 5162),\n",
    "    figsize=(10, 6)       \n",
    ")\n",
    "plt.annotate(\"Пик на 3133\", xy=(3100, 135), xytext=(2000, 136),\n",
    "            arrowprops=dict(facecolor='red', shrink=0.05))\n",
    "plt.annotate(\"Пик на 700м\", xy=(700, 40), xytext=(700, 60),\n",
    "            arrowprops=dict(facecolor='red', shrink=0.05))\n",
    "plt.xlabel('Расстояние в м', fontsize=12, fontweight=\"bold\")\n",
    "plt.ylabel('Количество поездок', fontsize=12, fontweight=\"bold\")\n",
    "plt.show()"
   ]
  },
  {
   "cell_type": "code",
   "execution_count": 33,
   "id": "a45d9d53-212d-43f2-89a3-28ee8c518fd3",
   "metadata": {},
   "outputs": [
    {
     "data": {
      "text/plain": [
       "(0.0, 8000.0)"
      ]
     },
     "execution_count": 33,
     "metadata": {},
     "output_type": "execute_result"
    },
    {
     "data": {
      "image/png": "[encoded data removed]",
      "text/plain": [
       "<Figure size 640x480 with 1 Axes>"
      ]
     },
     "metadata": {},
     "output_type": "display_data"
    }
   ],
   "source": [
    "rides_go.boxplot('distance');\n",
    "plt.ylabel('Расстояние/м', fontsize=12, fontweight=\"bold\")\n",
    "plt.ylim(0, 8000)"
   ]
  },
  {
   "cell_type": "markdown",
   "id": "3bdc4f19-378f-418e-96c8-7f17645b49a2",
   "metadata": {},
   "source": [
    "<div style=\"color: #000000; border-left: 3px solid #DCDCDC; border-right: 3px solid #DCDCDC; margin-left: 20px; padding-left: 10px\">\n",
    "\n",
    "**Вывод:** Судя по гистограмме, медианное значение и максимальный пик составляют 3133 метра. Также наблюдается пик в диапазоне 700–800 метров, после чего, ближе к отметке 1000 метров, происходит спад. Бесплатная подписка подразумевает оплату за каждую минуту использования, поэтому короткие поездки могут быть более распространены среди пользователей с такой подпиской. В результате дополнительный пик на расстоянии 700 метров связан с тем, что кратковременные поездки позволяют существенно сэкономить на услугах. Визуализация показывает, что первый и третий квартили находятся на отметках 2543 и 3776 метров соответственно. Затем следуют аномальные значения, превышающие 5900 метров.\n",
    "</div>"
   ]
  },
  {
   "cell_type": "markdown",
   "id": "1adf20e9-d088-4f95-9a38-53ea47bfd33a",
   "metadata": {},
   "source": [
    "## Соотношение по продолжительности поездки"
   ]
  },
  {
   "cell_type": "code",
   "execution_count": 34,
   "id": "28e801f7-39d1-4269-9608-940fc78c89f6",
   "metadata": {},
   "outputs": [
    {
     "data": {
      "text/html": [
       "<div>\n",
       "<style scoped>\n",
       "    .dataframe tbody tr th:only-of-type {\n",
       "        vertical-align: middle;\n",
       "    }\n",
       "\n",
       "    .dataframe tbody tr th {\n",
       "        vertical-align: top;\n",
       "    }\n",
       "\n",
       "    .dataframe thead th {\n",
       "        text-align: right;\n",
       "    }\n",
       "</style>\n",
       "<table border=\"1\" class=\"dataframe\">\n",
       "  <thead>\n",
       "    <tr style=\"text-align: right;\">\n",
       "      <th></th>\n",
       "      <th>user_id</th>\n",
       "      <th>distance</th>\n",
       "      <th>duration</th>\n",
       "      <th>date</th>\n",
       "      <th>date_month</th>\n",
       "    </tr>\n",
       "  </thead>\n",
       "  <tbody>\n",
       "    <tr>\n",
       "      <th>0</th>\n",
       "      <td>1</td>\n",
       "      <td>4409.92</td>\n",
       "      <td>26</td>\n",
       "      <td>2021-01-01</td>\n",
       "      <td>1</td>\n",
       "    </tr>\n",
       "    <tr>\n",
       "      <th>1</th>\n",
       "      <td>1</td>\n",
       "      <td>2617.59</td>\n",
       "      <td>16</td>\n",
       "      <td>2021-01-18</td>\n",
       "      <td>1</td>\n",
       "    </tr>\n",
       "    <tr>\n",
       "      <th>2</th>\n",
       "      <td>1</td>\n",
       "      <td>754.16</td>\n",
       "      <td>7</td>\n",
       "      <td>2021-04-20</td>\n",
       "      <td>4</td>\n",
       "    </tr>\n",
       "    <tr>\n",
       "      <th>3</th>\n",
       "      <td>1</td>\n",
       "      <td>2694.78</td>\n",
       "      <td>19</td>\n",
       "      <td>2021-08-11</td>\n",
       "      <td>8</td>\n",
       "    </tr>\n",
       "    <tr>\n",
       "      <th>4</th>\n",
       "      <td>1</td>\n",
       "      <td>4028.69</td>\n",
       "      <td>27</td>\n",
       "      <td>2021-08-28</td>\n",
       "      <td>8</td>\n",
       "    </tr>\n",
       "  </tbody>\n",
       "</table>\n",
       "</div>"
      ],
      "text/plain": [
       "   user_id  distance  duration       date  date_month\n",
       "0        1   4409.92        26 2021-01-01           1\n",
       "1        1   2617.59        16 2021-01-18           1\n",
       "2        1    754.16         7 2021-04-20           4\n",
       "3        1   2694.78        19 2021-08-11           8\n",
       "4        1   4028.69        27 2021-08-28           8"
      ]
     },
     "execution_count": 34,
     "metadata": {},
     "output_type": "execute_result"
    }
   ],
   "source": [
    "rides_go.head()"
   ]
  },
  {
   "cell_type": "code",
   "execution_count": 35,
   "id": "b963a699-4324-4e16-b8b9-441022f038bb",
   "metadata": {},
   "outputs": [
    {
     "data": {
      "text/plain": [
       "count    18068.00\n",
       "mean        18.30\n",
       "std          6.09\n",
       "min          1.00\n",
       "25%         14.00\n",
       "50%         18.00\n",
       "75%         22.00\n",
       "max         41.00\n",
       "Name: duration, dtype: float64"
      ]
     },
     "execution_count": 35,
     "metadata": {},
     "output_type": "execute_result"
    }
   ],
   "source": [
    "rides_go['duration'].describe().round(2)"
   ]
  },
  {
   "cell_type": "code",
   "execution_count": 36,
   "id": "028b95e8-9673-49e2-886b-8fcf4813b0d4",
   "metadata": {},
   "outputs": [
    {
     "data": {
      "image/png": "[encoded data removed]",
      "text/plain": [
       "<Figure size 1000x1000 with 1 Axes>"
      ]
     },
     "metadata": {},
     "output_type": "display_data"
    }
   ],
   "source": [
    "rides_go.duration \\\n",
    "    .plot(\n",
    "    kind='hist', \n",
    "    bins=70, \n",
    "    range=(0, 40),\n",
    "    title='Соотношение продолжительности поездок пользователей',\n",
    "    grid=True,    \n",
    "    figsize=(10, 10)       \n",
    ")\n",
    "plt.annotate(\"Пик на 18мин\", xy=(17, 1200), xytext=(8, 1220),\n",
    "            arrowprops=dict(facecolor='red', shrink=0.05))\n",
    "plt.xlabel('Количество поездок', fontsize=12, fontweight=\"bold\")\n",
    "plt.ylabel('Продолжительность поездок', fontsize=12, fontweight=\"bold\")\n",
    "plt.show()"
   ]
  },
  {
   "cell_type": "code",
   "execution_count": 37,
   "id": "1c5fcd13-db07-48fe-84dc-3a8b0c6b8c51",
   "metadata": {},
   "outputs": [
    {
     "data": {
      "image/png": "[encoded data removed]",
      "text/plain": [
       "<Figure size 640x480 with 1 Axes>"
      ]
     },
     "metadata": {},
     "output_type": "display_data"
    }
   ],
   "source": [
    "sns.boxplot(x = rides_go['duration'], color='#20B2AA')\n",
    "plt.title('Время, проведенное в поездке')\n",
    "plt.xlabel('Время/мин.')\n",
    "_ = plt.xlim(0, 45)"
   ]
  },
  {
   "cell_type": "markdown",
   "id": "da066dc2-b6d4-44a5-acd3-9b44785bb996",
   "metadata": {},
   "source": [
    "<div style=\"color: #000000; border-left: 3px solid #DCDCDC; border-right: 3px solid #DCDCDC; margin-left: 20px; padding-left: 10px\">\n",
    "\n",
    "**Вывод:** Как видно из графика самые частые поездки составляют в среднем 18 минут, самые короткие составляют продолжительное время - 38 минут. График демонстрирует, что первый квартиль расположен на отметке 13 минут, третий квартиль — на 21 минуте, медиана — на 17 минутах. Также заметны аномальные значения после 34 минут.\n",
    "</div>"
   ]
  },
  {
   "cell_type": "markdown",
   "id": "4d3fda60-d023-4547-9b83-a5d076f42872",
   "metadata": {},
   "source": [
    "<div style=\"color: #000000; border-radius: 10px; box-shadow: 2px 2px 4px; border: 1px solid; background:#DCDCDC; padding: 10px;\">\n",
    "\n",
    "**Вывод по разделу:** \n",
    "- В первой пятерке 4 южных города, исключение составляет Екатеринбург, использование электросамокатов чаще, потому что там тёплый климат и самокаты можно использовать практически круглый год. Это делает их удобным и популярным видом транспорта для передвижения по городу, так же была построена круговая диаграмма с процентными соотношениями городов из первой десятки.\n",
    "- Пользователей с платной подпиской меньше - 46%, чем пользователей с бесплатной подпиской - 54%.\n",
    "- Возрастной пик пользователей приходится на 25 лет, пользуются данная категория чаще из-за удобства, комфорта, экономии времени и денег, кроме того они дешевле в использовании, чем автомобили, их можно легко парковать.\n",
    "- Пик продолжительности попадет на 3133, первый квартиль приходится на 2543, третий квартиль приходится на 3776, так же имеется пик в районе 700 метров, это связано с тем, что кратковременные поездки позволяют существенно сэкономить на услугах, имеются аномальные значения после 5900 метров. \n",
    "- Согласно графику, наиболее часто поездки длятся примерно 18 минут. Однако есть и более короткие поездки, которые могут продолжаться до 38 минут. Возможно, это связано с тем, что при длительном катании аккумулятор может разрядиться раньше окончания поездки. Первый и третий квартили находятся на отметках 13 и 21 минута соответственно. После 34 минут наблюдаются аномальные значения.</div>"
   ]
  },
  {
   "cell_type": "markdown",
   "id": "8a98233d-1b07-4994-b283-6a255386edf8",
   "metadata": {},
   "source": [
    "# Шаг 4. Объединение данных"
   ]
  },
  {
   "cell_type": "markdown",
   "id": "4b7762e7-d40e-4167-9d2f-2a504edfbac9",
   "metadata": {},
   "source": [
    "## Создание единый датафрейм о пользователях, поездках, и подписках."
   ]
  },
  {
   "cell_type": "code",
   "execution_count": 38,
   "id": "c4c59149-cbe3-43f4-8361-c31e9c187ca8",
   "metadata": {},
   "outputs": [
    {
     "data": {
      "text/html": [
       "<div>\n",
       "<style scoped>\n",
       "    .dataframe tbody tr th:only-of-type {\n",
       "        vertical-align: middle;\n",
       "    }\n",
       "\n",
       "    .dataframe tbody tr th {\n",
       "        vertical-align: top;\n",
       "    }\n",
       "\n",
       "    .dataframe thead th {\n",
       "        text-align: right;\n",
       "    }\n",
       "</style>\n",
       "<table border=\"1\" class=\"dataframe\">\n",
       "  <thead>\n",
       "    <tr style=\"text-align: right;\">\n",
       "      <th></th>\n",
       "      <th>user_id</th>\n",
       "      <th>distance</th>\n",
       "      <th>duration</th>\n",
       "      <th>date</th>\n",
       "      <th>date_month</th>\n",
       "    </tr>\n",
       "  </thead>\n",
       "  <tbody>\n",
       "    <tr>\n",
       "      <th>0</th>\n",
       "      <td>1</td>\n",
       "      <td>4409.92</td>\n",
       "      <td>26</td>\n",
       "      <td>2021-01-01</td>\n",
       "      <td>1</td>\n",
       "    </tr>\n",
       "    <tr>\n",
       "      <th>1</th>\n",
       "      <td>1</td>\n",
       "      <td>2617.59</td>\n",
       "      <td>16</td>\n",
       "      <td>2021-01-18</td>\n",
       "      <td>1</td>\n",
       "    </tr>\n",
       "    <tr>\n",
       "      <th>2</th>\n",
       "      <td>1</td>\n",
       "      <td>754.16</td>\n",
       "      <td>7</td>\n",
       "      <td>2021-04-20</td>\n",
       "      <td>4</td>\n",
       "    </tr>\n",
       "    <tr>\n",
       "      <th>3</th>\n",
       "      <td>1</td>\n",
       "      <td>2694.78</td>\n",
       "      <td>19</td>\n",
       "      <td>2021-08-11</td>\n",
       "      <td>8</td>\n",
       "    </tr>\n",
       "    <tr>\n",
       "      <th>4</th>\n",
       "      <td>1</td>\n",
       "      <td>4028.69</td>\n",
       "      <td>27</td>\n",
       "      <td>2021-08-28</td>\n",
       "      <td>8</td>\n",
       "    </tr>\n",
       "  </tbody>\n",
       "</table>\n",
       "</div>"
      ],
      "text/plain": [
       "   user_id  distance  duration       date  date_month\n",
       "0        1   4409.92        26 2021-01-01           1\n",
       "1        1   2617.59        16 2021-01-18           1\n",
       "2        1    754.16         7 2021-04-20           4\n",
       "3        1   2694.78        19 2021-08-11           8\n",
       "4        1   4028.69        27 2021-08-28           8"
      ]
     },
     "execution_count": 38,
     "metadata": {},
     "output_type": "execute_result"
    }
   ],
   "source": [
    "rides_go.head()"
   ]
  },
  {
   "cell_type": "code",
   "execution_count": 39,
   "id": "849c3c4f-d03d-416c-ab41-1aa1e5da0fba",
   "metadata": {},
   "outputs": [
    {
     "data": {
      "text/html": [
       "<div>\n",
       "<style scoped>\n",
       "    .dataframe tbody tr th:only-of-type {\n",
       "        vertical-align: middle;\n",
       "    }\n",
       "\n",
       "    .dataframe tbody tr th {\n",
       "        vertical-align: top;\n",
       "    }\n",
       "\n",
       "    .dataframe thead th {\n",
       "        text-align: right;\n",
       "    }\n",
       "</style>\n",
       "<table border=\"1\" class=\"dataframe\">\n",
       "  <thead>\n",
       "    <tr style=\"text-align: right;\">\n",
       "      <th></th>\n",
       "      <th>user_id</th>\n",
       "      <th>name</th>\n",
       "      <th>age</th>\n",
       "      <th>city</th>\n",
       "      <th>subscription_type</th>\n",
       "    </tr>\n",
       "  </thead>\n",
       "  <tbody>\n",
       "    <tr>\n",
       "      <th>0</th>\n",
       "      <td>1</td>\n",
       "      <td>Кира</td>\n",
       "      <td>22</td>\n",
       "      <td>Тюмень</td>\n",
       "      <td>ultra</td>\n",
       "    </tr>\n",
       "    <tr>\n",
       "      <th>1</th>\n",
       "      <td>2</td>\n",
       "      <td>Станислав</td>\n",
       "      <td>31</td>\n",
       "      <td>Омск</td>\n",
       "      <td>ultra</td>\n",
       "    </tr>\n",
       "    <tr>\n",
       "      <th>2</th>\n",
       "      <td>3</td>\n",
       "      <td>Алексей</td>\n",
       "      <td>20</td>\n",
       "      <td>Москва</td>\n",
       "      <td>ultra</td>\n",
       "    </tr>\n",
       "    <tr>\n",
       "      <th>3</th>\n",
       "      <td>4</td>\n",
       "      <td>Константин</td>\n",
       "      <td>26</td>\n",
       "      <td>Ростов-на-Дону</td>\n",
       "      <td>ultra</td>\n",
       "    </tr>\n",
       "    <tr>\n",
       "      <th>4</th>\n",
       "      <td>5</td>\n",
       "      <td>Адель</td>\n",
       "      <td>28</td>\n",
       "      <td>Омск</td>\n",
       "      <td>ultra</td>\n",
       "    </tr>\n",
       "  </tbody>\n",
       "</table>\n",
       "</div>"
      ],
      "text/plain": [
       "   user_id        name  age            city subscription_type\n",
       "0        1        Кира   22          Тюмень             ultra\n",
       "1        2   Станислав   31            Омск             ultra\n",
       "2        3     Алексей   20          Москва             ultra\n",
       "3        4  Константин   26  Ростов-на-Дону             ultra\n",
       "4        5       Адель   28            Омск             ultra"
      ]
     },
     "execution_count": 39,
     "metadata": {},
     "output_type": "execute_result"
    }
   ],
   "source": [
    "users_go.head()"
   ]
  },
  {
   "cell_type": "code",
   "execution_count": 40,
   "id": "0dd4bab0-95ec-4cda-b72f-e1e0063db6f7",
   "metadata": {},
   "outputs": [
    {
     "data": {
      "text/html": [
       "<div>\n",
       "<style scoped>\n",
       "    .dataframe tbody tr th:only-of-type {\n",
       "        vertical-align: middle;\n",
       "    }\n",
       "\n",
       "    .dataframe tbody tr th {\n",
       "        vertical-align: top;\n",
       "    }\n",
       "\n",
       "    .dataframe thead th {\n",
       "        text-align: right;\n",
       "    }\n",
       "</style>\n",
       "<table border=\"1\" class=\"dataframe\">\n",
       "  <thead>\n",
       "    <tr style=\"text-align: right;\">\n",
       "      <th></th>\n",
       "      <th>subscription_type</th>\n",
       "      <th>minute_price</th>\n",
       "      <th>start_ride_price</th>\n",
       "      <th>subscription_fee</th>\n",
       "    </tr>\n",
       "  </thead>\n",
       "  <tbody>\n",
       "    <tr>\n",
       "      <th>0</th>\n",
       "      <td>free</td>\n",
       "      <td>8</td>\n",
       "      <td>50</td>\n",
       "      <td>0</td>\n",
       "    </tr>\n",
       "    <tr>\n",
       "      <th>1</th>\n",
       "      <td>ultra</td>\n",
       "      <td>6</td>\n",
       "      <td>0</td>\n",
       "      <td>199</td>\n",
       "    </tr>\n",
       "  </tbody>\n",
       "</table>\n",
       "</div>"
      ],
      "text/plain": [
       "  subscription_type  minute_price  start_ride_price  subscription_fee\n",
       "0              free             8                50                 0\n",
       "1             ultra             6                 0               199"
      ]
     },
     "execution_count": 40,
     "metadata": {},
     "output_type": "execute_result"
    }
   ],
   "source": [
    "subscriptions_go.head()"
   ]
  },
  {
   "cell_type": "code",
   "execution_count": 41,
   "id": "050b9af1-99f9-4a1b-9053-5fd02a30f3b8",
   "metadata": {},
   "outputs": [],
   "source": [
    "# Создание общей таблицы с помощью merge\n",
    "general_table = users_go \\\n",
    "    .merge(rides_go, on='user_id') \\\n",
    "    .merge(subscriptions_go, on='subscription_type'). \\\n",
    "    drop_duplicates().reset_index(drop=True)"
   ]
  },
  {
   "cell_type": "code",
   "execution_count": 42,
   "id": "d84ecd12-a852-408e-97a3-674da7cd564d",
   "metadata": {},
   "outputs": [
    {
     "data": {
      "text/html": [
       "<div>\n",
       "<style scoped>\n",
       "    .dataframe tbody tr th:only-of-type {\n",
       "        vertical-align: middle;\n",
       "    }\n",
       "\n",
       "    .dataframe tbody tr th {\n",
       "        vertical-align: top;\n",
       "    }\n",
       "\n",
       "    .dataframe thead th {\n",
       "        text-align: right;\n",
       "    }\n",
       "</style>\n",
       "<table border=\"1\" class=\"dataframe\">\n",
       "  <thead>\n",
       "    <tr style=\"text-align: right;\">\n",
       "      <th></th>\n",
       "      <th>user_id</th>\n",
       "      <th>name</th>\n",
       "      <th>age</th>\n",
       "      <th>city</th>\n",
       "      <th>subscription_type</th>\n",
       "      <th>distance</th>\n",
       "      <th>duration</th>\n",
       "      <th>date</th>\n",
       "      <th>date_month</th>\n",
       "      <th>minute_price</th>\n",
       "      <th>start_ride_price</th>\n",
       "      <th>subscription_fee</th>\n",
       "    </tr>\n",
       "  </thead>\n",
       "  <tbody>\n",
       "    <tr>\n",
       "      <th>0</th>\n",
       "      <td>1</td>\n",
       "      <td>Кира</td>\n",
       "      <td>22</td>\n",
       "      <td>Тюмень</td>\n",
       "      <td>ultra</td>\n",
       "      <td>4409.92</td>\n",
       "      <td>26</td>\n",
       "      <td>2021-01-01</td>\n",
       "      <td>1</td>\n",
       "      <td>6</td>\n",
       "      <td>0</td>\n",
       "      <td>199</td>\n",
       "    </tr>\n",
       "    <tr>\n",
       "      <th>1</th>\n",
       "      <td>1</td>\n",
       "      <td>Кира</td>\n",
       "      <td>22</td>\n",
       "      <td>Тюмень</td>\n",
       "      <td>ultra</td>\n",
       "      <td>2617.59</td>\n",
       "      <td>16</td>\n",
       "      <td>2021-01-18</td>\n",
       "      <td>1</td>\n",
       "      <td>6</td>\n",
       "      <td>0</td>\n",
       "      <td>199</td>\n",
       "    </tr>\n",
       "    <tr>\n",
       "      <th>2</th>\n",
       "      <td>1</td>\n",
       "      <td>Кира</td>\n",
       "      <td>22</td>\n",
       "      <td>Тюмень</td>\n",
       "      <td>ultra</td>\n",
       "      <td>754.16</td>\n",
       "      <td>7</td>\n",
       "      <td>2021-04-20</td>\n",
       "      <td>4</td>\n",
       "      <td>6</td>\n",
       "      <td>0</td>\n",
       "      <td>199</td>\n",
       "    </tr>\n",
       "    <tr>\n",
       "      <th>3</th>\n",
       "      <td>1</td>\n",
       "      <td>Кира</td>\n",
       "      <td>22</td>\n",
       "      <td>Тюмень</td>\n",
       "      <td>ultra</td>\n",
       "      <td>2694.78</td>\n",
       "      <td>19</td>\n",
       "      <td>2021-08-11</td>\n",
       "      <td>8</td>\n",
       "      <td>6</td>\n",
       "      <td>0</td>\n",
       "      <td>199</td>\n",
       "    </tr>\n",
       "    <tr>\n",
       "      <th>4</th>\n",
       "      <td>1</td>\n",
       "      <td>Кира</td>\n",
       "      <td>22</td>\n",
       "      <td>Тюмень</td>\n",
       "      <td>ultra</td>\n",
       "      <td>4028.69</td>\n",
       "      <td>27</td>\n",
       "      <td>2021-08-28</td>\n",
       "      <td>8</td>\n",
       "      <td>6</td>\n",
       "      <td>0</td>\n",
       "      <td>199</td>\n",
       "    </tr>\n",
       "  </tbody>\n",
       "</table>\n",
       "</div>"
      ],
      "text/plain": [
       "   user_id  name  age    city subscription_type  distance  duration  \\\n",
       "0        1  Кира   22  Тюмень             ultra   4409.92        26   \n",
       "1        1  Кира   22  Тюмень             ultra   2617.59        16   \n",
       "2        1  Кира   22  Тюмень             ultra    754.16         7   \n",
       "3        1  Кира   22  Тюмень             ultra   2694.78        19   \n",
       "4        1  Кира   22  Тюмень             ultra   4028.69        27   \n",
       "\n",
       "        date  date_month  minute_price  start_ride_price  subscription_fee  \n",
       "0 2021-01-01           1             6                 0               199  \n",
       "1 2021-01-18           1             6                 0               199  \n",
       "2 2021-04-20           4             6                 0               199  \n",
       "3 2021-08-11           8             6                 0               199  \n",
       "4 2021-08-28           8             6                 0               199  "
      ]
     },
     "execution_count": 42,
     "metadata": {},
     "output_type": "execute_result"
    }
   ],
   "source": [
    "general_table.head() # Просмотр первых 5 строк"
   ]
  },
  {
   "cell_type": "code",
   "execution_count": 43,
   "id": "5508506c-f98e-4220-9964-fda4b8324c25",
   "metadata": {},
   "outputs": [
    {
     "data": {
      "text/plain": [
       "0"
      ]
     },
     "execution_count": 43,
     "metadata": {},
     "output_type": "execute_result"
    }
   ],
   "source": [
    "general_table.duplicated().sum()"
   ]
  },
  {
   "cell_type": "code",
   "execution_count": 44,
   "id": "c507b589-e63b-4dcb-966f-80b68c3cfd6b",
   "metadata": {},
   "outputs": [
    {
     "name": "stdout",
     "output_type": "stream",
     "text": [
      "<class 'pandas.core.frame.DataFrame'>\n",
      "RangeIndex: 18068 entries, 0 to 18067\n",
      "Data columns (total 12 columns):\n",
      " #   Column             Non-Null Count  Dtype         \n",
      "---  ------             --------------  -----         \n",
      " 0   user_id            18068 non-null  int64         \n",
      " 1   name               18068 non-null  object        \n",
      " 2   age                18068 non-null  int64         \n",
      " 3   city               18068 non-null  object        \n",
      " 4   subscription_type  18068 non-null  object        \n",
      " 5   distance           18068 non-null  float64       \n",
      " 6   duration           18068 non-null  int32         \n",
      " 7   date               18068 non-null  datetime64[ns]\n",
      " 8   date_month         18068 non-null  int64         \n",
      " 9   minute_price       18068 non-null  int64         \n",
      " 10  start_ride_price   18068 non-null  int64         \n",
      " 11  subscription_fee   18068 non-null  int64         \n",
      "dtypes: datetime64[ns](1), float64(1), int32(1), int64(6), object(3)\n",
      "memory usage: 1.6+ MB\n"
     ]
    }
   ],
   "source": [
    "general_table.info() # Просмотр информации о пропусках и типах столбцах общей таблицы"
   ]
  },
  {
   "cell_type": "code",
   "execution_count": 45,
   "id": "5d7d8625-51c9-4384-8efc-1ee9c5530f3b",
   "metadata": {},
   "outputs": [
    {
     "name": "stdout",
     "output_type": "stream",
     "text": [
      "Количество строк: 18068\n"
     ]
    }
   ],
   "source": [
    "print('Количество строк:', general_table.shape[0])"
   ]
  },
  {
   "cell_type": "markdown",
   "id": "3083747c-8783-4ef8-b1ea-98e194240aaa",
   "metadata": {},
   "source": [
    "<div style=\"color: #000000; border-left: 3px solid #DCDCDC; border-right: 3px solid #DCDCDC; margin-left: 20px; padding-left: 10px\">\n",
    "\n",
    "**Вывод:** Были объедены 3 таблицы, проверено количество строк, оно совпадает с максимальным в rides_go, пропуски отсутствуют, дубликаты удалены.\n",
    "</div>"
   ]
  },
  {
   "cell_type": "markdown",
   "id": "37816fc0-5d7f-4808-9998-1f595a56aac6",
   "metadata": {},
   "source": [
    "## Создание DataFrame с данными пользователей без подпиской и с подпиской"
   ]
  },
  {
   "cell_type": "code",
   "execution_count": 46,
   "id": "8988a8d6-ae3f-433d-93a5-1fefe045ebf6",
   "metadata": {},
   "outputs": [
    {
     "data": {
      "text/plain": [
       "array(['ultra', 'free'], dtype=object)"
      ]
     },
     "execution_count": 46,
     "metadata": {},
     "output_type": "execute_result"
    }
   ],
   "source": [
    "general_table['subscription_type'].unique() # Просмотр уникальных значений"
   ]
  },
  {
   "cell_type": "code",
   "execution_count": 47,
   "id": "180b421e-92eb-4a4d-a51c-ed3243449a04",
   "metadata": {},
   "outputs": [],
   "source": [
    "general_table_free = general_table.loc[general_table['subscription_type'] == 'free'] # Пользователи  без подписки"
   ]
  },
  {
   "cell_type": "code",
   "execution_count": 48,
   "id": "8e272a3f-e580-4afa-bad8-f5ec5a8a5e95",
   "metadata": {},
   "outputs": [
    {
     "data": {
      "text/html": [
       "<div>\n",
       "<style scoped>\n",
       "    .dataframe tbody tr th:only-of-type {\n",
       "        vertical-align: middle;\n",
       "    }\n",
       "\n",
       "    .dataframe tbody tr th {\n",
       "        vertical-align: top;\n",
       "    }\n",
       "\n",
       "    .dataframe thead th {\n",
       "        text-align: right;\n",
       "    }\n",
       "</style>\n",
       "<table border=\"1\" class=\"dataframe\">\n",
       "  <thead>\n",
       "    <tr style=\"text-align: right;\">\n",
       "      <th></th>\n",
       "      <th>user_id</th>\n",
       "      <th>name</th>\n",
       "      <th>age</th>\n",
       "      <th>city</th>\n",
       "      <th>subscription_type</th>\n",
       "      <th>distance</th>\n",
       "      <th>duration</th>\n",
       "      <th>date</th>\n",
       "      <th>date_month</th>\n",
       "      <th>minute_price</th>\n",
       "      <th>start_ride_price</th>\n",
       "      <th>subscription_fee</th>\n",
       "    </tr>\n",
       "  </thead>\n",
       "  <tbody>\n",
       "    <tr>\n",
       "      <th>6500</th>\n",
       "      <td>700</td>\n",
       "      <td>Айдар</td>\n",
       "      <td>22</td>\n",
       "      <td>Омск</td>\n",
       "      <td>free</td>\n",
       "      <td>2515.69</td>\n",
       "      <td>15</td>\n",
       "      <td>2021-01-02</td>\n",
       "      <td>1</td>\n",
       "      <td>8</td>\n",
       "      <td>50</td>\n",
       "      <td>0</td>\n",
       "    </tr>\n",
       "    <tr>\n",
       "      <th>6501</th>\n",
       "      <td>700</td>\n",
       "      <td>Айдар</td>\n",
       "      <td>22</td>\n",
       "      <td>Омск</td>\n",
       "      <td>free</td>\n",
       "      <td>846.93</td>\n",
       "      <td>17</td>\n",
       "      <td>2021-02-01</td>\n",
       "      <td>2</td>\n",
       "      <td>8</td>\n",
       "      <td>50</td>\n",
       "      <td>0</td>\n",
       "    </tr>\n",
       "    <tr>\n",
       "      <th>6502</th>\n",
       "      <td>700</td>\n",
       "      <td>Айдар</td>\n",
       "      <td>22</td>\n",
       "      <td>Омск</td>\n",
       "      <td>free</td>\n",
       "      <td>4004.43</td>\n",
       "      <td>21</td>\n",
       "      <td>2021-02-04</td>\n",
       "      <td>2</td>\n",
       "      <td>8</td>\n",
       "      <td>50</td>\n",
       "      <td>0</td>\n",
       "    </tr>\n",
       "    <tr>\n",
       "      <th>6503</th>\n",
       "      <td>700</td>\n",
       "      <td>Айдар</td>\n",
       "      <td>22</td>\n",
       "      <td>Омск</td>\n",
       "      <td>free</td>\n",
       "      <td>1205.91</td>\n",
       "      <td>10</td>\n",
       "      <td>2021-02-10</td>\n",
       "      <td>2</td>\n",
       "      <td>8</td>\n",
       "      <td>50</td>\n",
       "      <td>0</td>\n",
       "    </tr>\n",
       "    <tr>\n",
       "      <th>6504</th>\n",
       "      <td>700</td>\n",
       "      <td>Айдар</td>\n",
       "      <td>22</td>\n",
       "      <td>Омск</td>\n",
       "      <td>free</td>\n",
       "      <td>3047.38</td>\n",
       "      <td>18</td>\n",
       "      <td>2021-02-14</td>\n",
       "      <td>2</td>\n",
       "      <td>8</td>\n",
       "      <td>50</td>\n",
       "      <td>0</td>\n",
       "    </tr>\n",
       "  </tbody>\n",
       "</table>\n",
       "</div>"
      ],
      "text/plain": [
       "      user_id   name  age  city subscription_type  distance  duration  \\\n",
       "6500      700  Айдар   22  Омск              free   2515.69        15   \n",
       "6501      700  Айдар   22  Омск              free    846.93        17   \n",
       "6502      700  Айдар   22  Омск              free   4004.43        21   \n",
       "6503      700  Айдар   22  Омск              free   1205.91        10   \n",
       "6504      700  Айдар   22  Омск              free   3047.38        18   \n",
       "\n",
       "           date  date_month  minute_price  start_ride_price  subscription_fee  \n",
       "6500 2021-01-02           1             8                50                 0  \n",
       "6501 2021-02-01           2             8                50                 0  \n",
       "6502 2021-02-04           2             8                50                 0  \n",
       "6503 2021-02-10           2             8                50                 0  \n",
       "6504 2021-02-14           2             8                50                 0  "
      ]
     },
     "execution_count": 48,
     "metadata": {},
     "output_type": "execute_result"
    }
   ],
   "source": [
    "general_table_free.head()"
   ]
  },
  {
   "cell_type": "code",
   "execution_count": 49,
   "id": "7799ba33-6790-4dad-85b5-ba558501bc8e",
   "metadata": {},
   "outputs": [
    {
     "name": "stdout",
     "output_type": "stream",
     "text": [
      "<class 'pandas.core.frame.DataFrame'>\n",
      "Int64Index: 11568 entries, 6500 to 18067\n",
      "Data columns (total 12 columns):\n",
      " #   Column             Non-Null Count  Dtype         \n",
      "---  ------             --------------  -----         \n",
      " 0   user_id            11568 non-null  int64         \n",
      " 1   name               11568 non-null  object        \n",
      " 2   age                11568 non-null  int64         \n",
      " 3   city               11568 non-null  object        \n",
      " 4   subscription_type  11568 non-null  object        \n",
      " 5   distance           11568 non-null  float64       \n",
      " 6   duration           11568 non-null  int32         \n",
      " 7   date               11568 non-null  datetime64[ns]\n",
      " 8   date_month         11568 non-null  int64         \n",
      " 9   minute_price       11568 non-null  int64         \n",
      " 10  start_ride_price   11568 non-null  int64         \n",
      " 11  subscription_fee   11568 non-null  int64         \n",
      "dtypes: datetime64[ns](1), float64(1), int32(1), int64(6), object(3)\n",
      "memory usage: 1.1+ MB\n"
     ]
    }
   ],
   "source": [
    "general_table_free.info()"
   ]
  },
  {
   "cell_type": "code",
   "execution_count": 50,
   "id": "9c0a3831-44ef-43fe-a6f2-498159e4374a",
   "metadata": {},
   "outputs": [],
   "source": [
    "general_table_ultra = general_table.loc[general_table['subscription_type'] == 'ultra'] # Пользователи с подпиской"
   ]
  },
  {
   "cell_type": "code",
   "execution_count": 51,
   "id": "19ea55f1-c330-4aa7-bf25-69b01f48918c",
   "metadata": {},
   "outputs": [
    {
     "data": {
      "text/html": [
       "<div>\n",
       "<style scoped>\n",
       "    .dataframe tbody tr th:only-of-type {\n",
       "        vertical-align: middle;\n",
       "    }\n",
       "\n",
       "    .dataframe tbody tr th {\n",
       "        vertical-align: top;\n",
       "    }\n",
       "\n",
       "    .dataframe thead th {\n",
       "        text-align: right;\n",
       "    }\n",
       "</style>\n",
       "<table border=\"1\" class=\"dataframe\">\n",
       "  <thead>\n",
       "    <tr style=\"text-align: right;\">\n",
       "      <th></th>\n",
       "      <th>user_id</th>\n",
       "      <th>name</th>\n",
       "      <th>age</th>\n",
       "      <th>city</th>\n",
       "      <th>subscription_type</th>\n",
       "      <th>distance</th>\n",
       "      <th>duration</th>\n",
       "      <th>date</th>\n",
       "      <th>date_month</th>\n",
       "      <th>minute_price</th>\n",
       "      <th>start_ride_price</th>\n",
       "      <th>subscription_fee</th>\n",
       "    </tr>\n",
       "  </thead>\n",
       "  <tbody>\n",
       "    <tr>\n",
       "      <th>0</th>\n",
       "      <td>1</td>\n",
       "      <td>Кира</td>\n",
       "      <td>22</td>\n",
       "      <td>Тюмень</td>\n",
       "      <td>ultra</td>\n",
       "      <td>4409.92</td>\n",
       "      <td>26</td>\n",
       "      <td>2021-01-01</td>\n",
       "      <td>1</td>\n",
       "      <td>6</td>\n",
       "      <td>0</td>\n",
       "      <td>199</td>\n",
       "    </tr>\n",
       "    <tr>\n",
       "      <th>1</th>\n",
       "      <td>1</td>\n",
       "      <td>Кира</td>\n",
       "      <td>22</td>\n",
       "      <td>Тюмень</td>\n",
       "      <td>ultra</td>\n",
       "      <td>2617.59</td>\n",
       "      <td>16</td>\n",
       "      <td>2021-01-18</td>\n",
       "      <td>1</td>\n",
       "      <td>6</td>\n",
       "      <td>0</td>\n",
       "      <td>199</td>\n",
       "    </tr>\n",
       "    <tr>\n",
       "      <th>2</th>\n",
       "      <td>1</td>\n",
       "      <td>Кира</td>\n",
       "      <td>22</td>\n",
       "      <td>Тюмень</td>\n",
       "      <td>ultra</td>\n",
       "      <td>754.16</td>\n",
       "      <td>7</td>\n",
       "      <td>2021-04-20</td>\n",
       "      <td>4</td>\n",
       "      <td>6</td>\n",
       "      <td>0</td>\n",
       "      <td>199</td>\n",
       "    </tr>\n",
       "    <tr>\n",
       "      <th>3</th>\n",
       "      <td>1</td>\n",
       "      <td>Кира</td>\n",
       "      <td>22</td>\n",
       "      <td>Тюмень</td>\n",
       "      <td>ultra</td>\n",
       "      <td>2694.78</td>\n",
       "      <td>19</td>\n",
       "      <td>2021-08-11</td>\n",
       "      <td>8</td>\n",
       "      <td>6</td>\n",
       "      <td>0</td>\n",
       "      <td>199</td>\n",
       "    </tr>\n",
       "    <tr>\n",
       "      <th>4</th>\n",
       "      <td>1</td>\n",
       "      <td>Кира</td>\n",
       "      <td>22</td>\n",
       "      <td>Тюмень</td>\n",
       "      <td>ultra</td>\n",
       "      <td>4028.69</td>\n",
       "      <td>27</td>\n",
       "      <td>2021-08-28</td>\n",
       "      <td>8</td>\n",
       "      <td>6</td>\n",
       "      <td>0</td>\n",
       "      <td>199</td>\n",
       "    </tr>\n",
       "  </tbody>\n",
       "</table>\n",
       "</div>"
      ],
      "text/plain": [
       "   user_id  name  age    city subscription_type  distance  duration  \\\n",
       "0        1  Кира   22  Тюмень             ultra   4409.92        26   \n",
       "1        1  Кира   22  Тюмень             ultra   2617.59        16   \n",
       "2        1  Кира   22  Тюмень             ultra    754.16         7   \n",
       "3        1  Кира   22  Тюмень             ultra   2694.78        19   \n",
       "4        1  Кира   22  Тюмень             ultra   4028.69        27   \n",
       "\n",
       "        date  date_month  minute_price  start_ride_price  subscription_fee  \n",
       "0 2021-01-01           1             6                 0               199  \n",
       "1 2021-01-18           1             6                 0               199  \n",
       "2 2021-04-20           4             6                 0               199  \n",
       "3 2021-08-11           8             6                 0               199  \n",
       "4 2021-08-28           8             6                 0               199  "
      ]
     },
     "execution_count": 51,
     "metadata": {},
     "output_type": "execute_result"
    }
   ],
   "source": [
    "general_table_ultra.head()"
   ]
  },
  {
   "cell_type": "code",
   "execution_count": 52,
   "id": "8681c7ed-2441-4d87-a4d8-0d18bb53b4f3",
   "metadata": {},
   "outputs": [
    {
     "name": "stdout",
     "output_type": "stream",
     "text": [
      "<class 'pandas.core.frame.DataFrame'>\n",
      "Int64Index: 6500 entries, 0 to 6499\n",
      "Data columns (total 12 columns):\n",
      " #   Column             Non-Null Count  Dtype         \n",
      "---  ------             --------------  -----         \n",
      " 0   user_id            6500 non-null   int64         \n",
      " 1   name               6500 non-null   object        \n",
      " 2   age                6500 non-null   int64         \n",
      " 3   city               6500 non-null   object        \n",
      " 4   subscription_type  6500 non-null   object        \n",
      " 5   distance           6500 non-null   float64       \n",
      " 6   duration           6500 non-null   int32         \n",
      " 7   date               6500 non-null   datetime64[ns]\n",
      " 8   date_month         6500 non-null   int64         \n",
      " 9   minute_price       6500 non-null   int64         \n",
      " 10  start_ride_price   6500 non-null   int64         \n",
      " 11  subscription_fee   6500 non-null   int64         \n",
      "dtypes: datetime64[ns](1), float64(1), int32(1), int64(6), object(3)\n",
      "memory usage: 634.8+ KB\n"
     ]
    }
   ],
   "source": [
    "general_table_ultra.info()"
   ]
  },
  {
   "cell_type": "code",
   "execution_count": 53,
   "id": "434232f8-94cf-4405-a04e-de003684bbd9",
   "metadata": {},
   "outputs": [
    {
     "name": "stdout",
     "output_type": "stream",
     "text": [
      "Общее количество строк: 18068\n"
     ]
    }
   ],
   "source": [
    "print('Общее количество строк:', general_table_free.shape[0] + general_table_ultra.shape[0])"
   ]
  },
  {
   "cell_type": "markdown",
   "id": "6bd69e1e-8481-40b5-8241-84cc8cdfc577",
   "metadata": {},
   "source": [
    "<div style=\"color: #000000; border-left: 3px solid #DCDCDC; border-right: 3px solid #DCDCDC; margin-left: 20px; padding-left: 10px\">\n",
    "\n",
    "**Вывод:** Количество строк с подпиской и без совпадает с общим количеством `general_table`.\n",
    "</div>"
   ]
  },
  {
   "cell_type": "markdown",
   "id": "141249fc-8144-4427-93db-4d4422f8dda4",
   "metadata": {},
   "source": [
    "## Визуализация о расстоянии и времени поездок для обеих категорий"
   ]
  },
  {
   "cell_type": "code",
   "execution_count": 54,
   "id": "531021c3-8e91-406a-8281-6091fc9b13eb",
   "metadata": {},
   "outputs": [
    {
     "data": {
      "text/plain": [
       "count    11568.00\n",
       "mean      3045.50\n",
       "std       1246.17\n",
       "min          0.86\n",
       "25%       2366.56\n",
       "50%       3114.65\n",
       "75%       3905.70\n",
       "max       7211.01\n",
       "Name: distance, dtype: float64"
      ]
     },
     "execution_count": 54,
     "metadata": {},
     "output_type": "execute_result"
    }
   ],
   "source": [
    "general_table_free['distance'].describe().round(2)"
   ]
  },
  {
   "cell_type": "code",
   "execution_count": 55,
   "id": "ca51d25c-4bc5-4427-bd04-3c79f78dab17",
   "metadata": {},
   "outputs": [
    {
     "data": {
      "image/png": "[encoded data removed]",
      "text/plain": [
       "<Figure size 1000x600 with 1 Axes>"
      ]
     },
     "metadata": {},
     "output_type": "display_data"
    }
   ],
   "source": [
    "general_table_free.distance \\\n",
    "    .plot(\n",
    "    title='Число поездок в зависимости от дальности поездки (без подписки)',\n",
    "    kind='hist', \n",
    "    bins=400, \n",
    "    range=(1, 5062),\n",
    "    figsize=(10, 6)       \n",
    ")\n",
    "plt.annotate(\"Пик\", xy=(2500, 67), xytext=(1600, 68),\n",
    "            arrowprops=dict(facecolor='red', shrink=0.05))\n",
    "plt.annotate(\"Пик\", xy=(600, 30), xytext=(600, 40),\n",
    "            arrowprops=dict(facecolor='red', shrink=0.05))\n",
    "plt.xlabel('Расстояние в м', fontsize=12, fontweight=\"bold\")\n",
    "plt.ylabel('Количество поездок', fontsize=12, fontweight=\"bold\")\n",
    "plt.show()"
   ]
  },
  {
   "cell_type": "code",
   "execution_count": 56,
   "id": "c9214b92-cb4e-4629-81d1-533ba391785c",
   "metadata": {},
   "outputs": [
    {
     "data": {
      "text/plain": [
       "count    11568.00\n",
       "mean        17.89\n",
       "std          6.33\n",
       "min          1.00\n",
       "25%         13.00\n",
       "50%         18.00\n",
       "75%         22.00\n",
       "max         35.00\n",
       "Name: duration, dtype: float64"
      ]
     },
     "execution_count": 56,
     "metadata": {},
     "output_type": "execute_result"
    }
   ],
   "source": [
    "general_table_free['duration'].describe().round(2)"
   ]
  },
  {
   "cell_type": "markdown",
   "id": "383faeaf-9f22-4b3c-bd96-a246e92fbe5c",
   "metadata": {},
   "source": [
    "<div style=\"color: #000000; border-left: 3px solid #DCDCDC; border-right: 3px solid #DCDCDC; margin-left: 20px; padding-left: 10px\">\n",
    "\n",
    "**Вывод:** Медиана пользователей без подписки находится на 3114.\n",
    "</div>"
   ]
  },
  {
   "cell_type": "code",
   "execution_count": 57,
   "id": "db8824a0-f1a3-4357-98d0-e7898e744a02",
   "metadata": {},
   "outputs": [
    {
     "data": {
      "image/png": "[encoded data removed]",
      "text/plain": [
       "<Figure size 1000x600 with 1 Axes>"
      ]
     },
     "metadata": {},
     "output_type": "display_data"
    }
   ],
   "source": [
    "general_table_free.duration \\\n",
    "    .plot(\n",
    "    title='Число поездок в зависимости от времени (без подписки)',\n",
    "    kind='hist', \n",
    "    bins=70, \n",
    "    range=(1, 35),\n",
    "    figsize=(10, 6)       \n",
    ")\n",
    "plt.annotate(\"17 минут\", xy=(16, 715), xytext=(10, 725),\n",
    "            arrowprops=dict(facecolor='red', shrink=0.05))\n",
    "plt.xlabel('Время поездки', fontsize=12, fontweight=\"bold\")\n",
    "plt.ylabel('Количество поездок', fontsize=12, fontweight=\"bold\")\n",
    "plt.show()"
   ]
  },
  {
   "cell_type": "markdown",
   "id": "a84d35b9-1f29-412c-9391-ed941af6b43e",
   "metadata": {},
   "source": [
    "<div style=\"color: #000000; border-left: 3px solid #DCDCDC; border-right: 3px solid #DCDCDC; margin-left: 20px; padding-left: 10px\">\n",
    "\n",
    "**Вывод:** Пик поездок по времени у пользователей без подписки составляет 17 минут.\n",
    "</div>"
   ]
  },
  {
   "cell_type": "code",
   "execution_count": 58,
   "id": "f9245cb5-6840-4dd7-8f02-8cbb50a4f26b",
   "metadata": {},
   "outputs": [
    {
     "data": {
      "text/plain": [
       "count    6500.00\n",
       "mean     3115.45\n",
       "std       836.90\n",
       "min       244.21\n",
       "25%      2785.45\n",
       "50%      3148.64\n",
       "75%      3560.58\n",
       "max      5699.77\n",
       "Name: distance, dtype: float64"
      ]
     },
     "execution_count": 58,
     "metadata": {},
     "output_type": "execute_result"
    }
   ],
   "source": [
    "general_table_ultra['distance'].describe().round(2)"
   ]
  },
  {
   "cell_type": "code",
   "execution_count": 59,
   "id": "651ff253-477d-433c-b7a6-f4772d2c6e3e",
   "metadata": {},
   "outputs": [
    {
     "data": {
      "image/png": "[encoded data removed]",
      "text/plain": [
       "<Figure size 1000x600 with 1 Axes>"
      ]
     },
     "metadata": {},
     "output_type": "display_data"
    }
   ],
   "source": [
    "general_table_ultra.distance \\\n",
    "    .plot(\n",
    "    title='Число поездок в зависимости от дальности поездки (платная подписка)',\n",
    "    kind='hist', \n",
    "    bins=400, \n",
    "    range=(1, 5062),\n",
    "    figsize=(10, 6)       \n",
    ")\n",
    "plt.annotate(\"Пик на 3148\", xy=(3130, 79), xytext=(2000, 80),\n",
    "            arrowprops=dict(facecolor='red', shrink=0.05))\n",
    "plt.xlabel('Расстояние в м', fontsize=12, fontweight=\"bold\")\n",
    "plt.ylabel('Количество поездок', fontsize=12, fontweight=\"bold\")\n",
    "plt.show()"
   ]
  },
  {
   "cell_type": "markdown",
   "id": "3e629c03-68c7-429e-bf1e-2c738ae6dc1a",
   "metadata": {},
   "source": [
    "<div style=\"color: #000000; border-left: 3px solid #DCDCDC; border-right: 3px solid #DCDCDC; margin-left: 20px; padding-left: 10px\">\n",
    "\n",
    "**Вывод:** Медиана пользователей без подписки находится на 3148.\n",
    "</div>"
   ]
  },
  {
   "cell_type": "code",
   "execution_count": 60,
   "id": "40e62dcb-36d1-4513-aad7-5b591b3f146f",
   "metadata": {},
   "outputs": [
    {
     "data": {
      "text/plain": [
       "count    6500.00\n",
       "mean       19.04\n",
       "std         5.58\n",
       "min         4.00\n",
       "25%        15.00\n",
       "50%        19.00\n",
       "75%        22.00\n",
       "max        41.00\n",
       "Name: duration, dtype: float64"
      ]
     },
     "execution_count": 60,
     "metadata": {},
     "output_type": "execute_result"
    }
   ],
   "source": [
    "general_table_ultra['duration'].describe().round(2)"
   ]
  },
  {
   "cell_type": "code",
   "execution_count": 61,
   "id": "2898cc5f-cf85-41dd-9495-c084d3f0c422",
   "metadata": {},
   "outputs": [
    {
     "data": {
      "image/png": "[encoded data removed]",
      "text/plain": [
       "<Figure size 1000x600 with 1 Axes>"
      ]
     },
     "metadata": {},
     "output_type": "display_data"
    }
   ],
   "source": [
    "general_table_ultra.duration \\\n",
    "    .plot(\n",
    "    title='Число поездок в зависимости от времени (без подписки)',\n",
    "    kind='hist', \n",
    "    bins=70, \n",
    "    range=(1, 35),\n",
    "    figsize=(10, 6)       \n",
    ")\n",
    "plt.annotate(\"18 минут\", xy=(18, 487), xytext=(12, 494),\n",
    "            arrowprops=dict(facecolor='red', shrink=0.05))\n",
    "plt.xlabel('Время поездки', fontsize=12, fontweight=\"bold\")\n",
    "plt.ylabel('Количество поездок', fontsize=12, fontweight=\"bold\")\n",
    "plt.show()"
   ]
  },
  {
   "cell_type": "markdown",
   "id": "596ee3f0-ee67-48e6-9b23-92fb1b8e8b04",
   "metadata": {},
   "source": [
    "<div style=\"color: #000000; border-left: 3px solid #DCDCDC; border-right: 3px solid #DCDCDC; margin-left: 20px; padding-left: 10px\">\n",
    "\n",
    "**Вывод:** Пик поездок по времени у пользователей без подписки составляет 18 минут.\n",
    "</div>"
   ]
  },
  {
   "cell_type": "code",
   "execution_count": 62,
   "id": "becec24d-9147-4aee-91c5-4689693de8ad",
   "metadata": {},
   "outputs": [
    {
     "data": {
      "image/png": "[encoded data removed]",
      "text/plain": [
       "<Figure size 640x480 with 1 Axes>"
      ]
     },
     "metadata": {},
     "output_type": "display_data"
    }
   ],
   "source": [
    "plt.hist([general_table_free['distance'], general_table_ultra['distance']], \\\n",
    "         bins=50, range=(1,5600), label=['free', 'ultra'])\n",
    "plt.legend(loc='upper right')\n",
    "plt.title('Количество поездок в зависимости расстояния поездки')\n",
    "plt.xlabel('Расстояние в метрах', fontsize=10, fontweight=\"bold\")\n",
    "plt.ylabel('Количество поездок', fontsize=10, fontweight=\"bold\")\n",
    "plt.show()"
   ]
  },
  {
   "cell_type": "markdown",
   "id": "e6974683-f174-4af3-9abb-4ff8be2a07b7",
   "metadata": {},
   "source": [
    "<div style=\"color: #000000; border-left: 3px solid #DCDCDC; border-right: 3px solid #DCDCDC; margin-left: 20px; padding-left: 10px\">\n",
    "\n",
    "**Вывод:** Как видно по гистрограмма наиболее преодалённое расстояние у пользователей с подпиской.\n",
    "</div>"
   ]
  },
  {
   "cell_type": "code",
   "execution_count": 63,
   "id": "835eeb05-db0c-487c-a317-f50a4b22e138",
   "metadata": {},
   "outputs": [
    {
     "data": {
      "image/png": "[encoded data removed]",
      "text/plain": [
       "<Figure size 640x480 with 1 Axes>"
      ]
     },
     "metadata": {},
     "output_type": "display_data"
    }
   ],
   "source": [
    "plt.hist([general_table_free['duration'], general_table_ultra['duration']], \\\n",
    "         bins=70, range=(1,35), label=['free', 'ultra'])\n",
    "plt.legend(loc='upper right')\n",
    "plt.title('Количество поездок в зависимости расстояния поездки')\n",
    "plt.xlabel('Время поездки', fontsize=10, fontweight=\"bold\")\n",
    "plt.ylabel('Количество поездок', fontsize=10, fontweight=\"bold\")\n",
    "plt.show()"
   ]
  },
  {
   "cell_type": "markdown",
   "id": "8c878638-e278-46dc-ba5f-e05e1b6b8d9a",
   "metadata": {},
   "source": [
    "<div style=\"color: #000000; border-left: 3px solid #DCDCDC; border-right: 3px solid #DCDCDC; margin-left: 20px; padding-left: 10px\">\n",
    "\n",
    "**Вывод:** Время поездки больше у пользователей без подписки.\n",
    "</div>"
   ]
  },
  {
   "cell_type": "markdown",
   "id": "9d6aee21-a901-4847-ab1f-337de911c0b8",
   "metadata": {},
   "source": [
    "<div style=\"color: #000000; border-radius: 10px; box-shadow: 2px 2px 4px; border: 1px solid; background:#DCDCDC; padding: 10px;\">\n",
    "\n",
    "**Вывод по разделу:** \n",
    "- Объединены 3 датафрейма в один, проверено количество строк - **18068**, удалены дубликаты и проверены пропуски в столбцах.\n",
    "- Создано 2 датафрема с информацией о пользователях без подписки и с подпиской, проверена сумма строк - **18068**.\n",
    "- Визуализированы данные о расстоянии и времени поездок, так в среднем пользователи проезжают расстояние 3114 метров, а время поездок составляет 17 минут, это связано с тем, что активация самоката и списание средств происходят в начале поездки, поэтому пользователи без подписки вынуждены быть более внимательными к стоимости аренды и ограничивать время использования самоката. Пользователи с подпиской проезжают в среднем 3148 метров, время поездок 18 минут, так же построена гистрограмма, которая позволяет увидить общую информацию.    \n",
    "</div>"
   ]
  },
  {
   "cell_type": "markdown",
   "id": "38e9a3d1-a9ce-4810-bc7d-4933003265cc",
   "metadata": {},
   "source": [
    "# Шаг 5. Подсчёт выручки"
   ]
  },
  {
   "cell_type": "markdown",
   "id": "49c38103-f046-404c-a10c-e040e50e49fa",
   "metadata": {},
   "source": [
    "## Создание датафрейма с агрегированными данными о поездках"
   ]
  },
  {
   "cell_type": "code",
   "execution_count": 64,
   "id": "7d516167-438e-42c4-8a78-1ed1c5ea0c5b",
   "metadata": {},
   "outputs": [
    {
     "data": {
      "text/html": [
       "<div>\n",
       "<style scoped>\n",
       "    .dataframe tbody tr th:only-of-type {\n",
       "        vertical-align: middle;\n",
       "    }\n",
       "\n",
       "    .dataframe tbody tr th {\n",
       "        vertical-align: top;\n",
       "    }\n",
       "\n",
       "    .dataframe thead th {\n",
       "        text-align: right;\n",
       "    }\n",
       "</style>\n",
       "<table border=\"1\" class=\"dataframe\">\n",
       "  <thead>\n",
       "    <tr style=\"text-align: right;\">\n",
       "      <th></th>\n",
       "      <th>user_id</th>\n",
       "      <th>name</th>\n",
       "      <th>age</th>\n",
       "      <th>city</th>\n",
       "      <th>subscription_type</th>\n",
       "      <th>distance</th>\n",
       "      <th>duration</th>\n",
       "      <th>date</th>\n",
       "      <th>date_month</th>\n",
       "      <th>minute_price</th>\n",
       "      <th>start_ride_price</th>\n",
       "      <th>subscription_fee</th>\n",
       "    </tr>\n",
       "  </thead>\n",
       "  <tbody>\n",
       "    <tr>\n",
       "      <th>0</th>\n",
       "      <td>1</td>\n",
       "      <td>Кира</td>\n",
       "      <td>22</td>\n",
       "      <td>Тюмень</td>\n",
       "      <td>ultra</td>\n",
       "      <td>4409.92</td>\n",
       "      <td>26</td>\n",
       "      <td>2021-01-01</td>\n",
       "      <td>1</td>\n",
       "      <td>6</td>\n",
       "      <td>0</td>\n",
       "      <td>199</td>\n",
       "    </tr>\n",
       "    <tr>\n",
       "      <th>1</th>\n",
       "      <td>1</td>\n",
       "      <td>Кира</td>\n",
       "      <td>22</td>\n",
       "      <td>Тюмень</td>\n",
       "      <td>ultra</td>\n",
       "      <td>2617.59</td>\n",
       "      <td>16</td>\n",
       "      <td>2021-01-18</td>\n",
       "      <td>1</td>\n",
       "      <td>6</td>\n",
       "      <td>0</td>\n",
       "      <td>199</td>\n",
       "    </tr>\n",
       "    <tr>\n",
       "      <th>2</th>\n",
       "      <td>1</td>\n",
       "      <td>Кира</td>\n",
       "      <td>22</td>\n",
       "      <td>Тюмень</td>\n",
       "      <td>ultra</td>\n",
       "      <td>754.16</td>\n",
       "      <td>7</td>\n",
       "      <td>2021-04-20</td>\n",
       "      <td>4</td>\n",
       "      <td>6</td>\n",
       "      <td>0</td>\n",
       "      <td>199</td>\n",
       "    </tr>\n",
       "    <tr>\n",
       "      <th>3</th>\n",
       "      <td>1</td>\n",
       "      <td>Кира</td>\n",
       "      <td>22</td>\n",
       "      <td>Тюмень</td>\n",
       "      <td>ultra</td>\n",
       "      <td>2694.78</td>\n",
       "      <td>19</td>\n",
       "      <td>2021-08-11</td>\n",
       "      <td>8</td>\n",
       "      <td>6</td>\n",
       "      <td>0</td>\n",
       "      <td>199</td>\n",
       "    </tr>\n",
       "    <tr>\n",
       "      <th>4</th>\n",
       "      <td>1</td>\n",
       "      <td>Кира</td>\n",
       "      <td>22</td>\n",
       "      <td>Тюмень</td>\n",
       "      <td>ultra</td>\n",
       "      <td>4028.69</td>\n",
       "      <td>27</td>\n",
       "      <td>2021-08-28</td>\n",
       "      <td>8</td>\n",
       "      <td>6</td>\n",
       "      <td>0</td>\n",
       "      <td>199</td>\n",
       "    </tr>\n",
       "  </tbody>\n",
       "</table>\n",
       "</div>"
      ],
      "text/plain": [
       "   user_id  name  age    city subscription_type  distance  duration  \\\n",
       "0        1  Кира   22  Тюмень             ultra   4409.92        26   \n",
       "1        1  Кира   22  Тюмень             ultra   2617.59        16   \n",
       "2        1  Кира   22  Тюмень             ultra    754.16         7   \n",
       "3        1  Кира   22  Тюмень             ultra   2694.78        19   \n",
       "4        1  Кира   22  Тюмень             ultra   4028.69        27   \n",
       "\n",
       "        date  date_month  minute_price  start_ride_price  subscription_fee  \n",
       "0 2021-01-01           1             6                 0               199  \n",
       "1 2021-01-18           1             6                 0               199  \n",
       "2 2021-04-20           4             6                 0               199  \n",
       "3 2021-08-11           8             6                 0               199  \n",
       "4 2021-08-28           8             6                 0               199  "
      ]
     },
     "execution_count": 64,
     "metadata": {},
     "output_type": "execute_result"
    }
   ],
   "source": [
    "general_table.head()"
   ]
  },
  {
   "cell_type": "code",
   "execution_count": 65,
   "id": "5ff4b7e4-5932-4433-9966-f17466b52d6c",
   "metadata": {},
   "outputs": [],
   "source": [
    "user_gener_table = general_table.pivot_table(\n",
    "    index=('user_id', 'name', 'age', 'city', 'date_month'), \n",
    "    values=(\n",
    "        'distance', \n",
    "        'duration', \n",
    "        'minute_price', \n",
    "        'start_ride_price', \n",
    "        'subscription_fee',\n",
    "        'subscription_type'\n",
    "    ), \n",
    "    aggfunc=({'distance':{'count', 'sum'}, \n",
    "             'duration':'sum',\n",
    "             'minute_price': 'mean',\n",
    "             'start_ride_price':'mean',\n",
    "             'subscription_fee':'mean',\n",
    "             'subscription_type': 'min'})\n",
    ")"
   ]
  },
  {
   "cell_type": "code",
   "execution_count": 69,
   "id": "6a9ca206-ca64-4d22-8d95-87bcba774d6a",
   "metadata": {},
   "outputs": [
    {
     "data": {
      "text/plain": [
       "distance           count    0\n",
       "                   sum      0\n",
       "duration           sum      0\n",
       "minute_price       mean     0\n",
       "start_ride_price   mean     0\n",
       "subscription_fee   mean     0\n",
       "subscription_type  min      0\n",
       "dtype: int64"
      ]
     },
     "execution_count": 69,
     "metadata": {},
     "output_type": "execute_result"
    }
   ],
   "source": [
    "user_gener_table.isna().sum()"
   ]
  },
  {
   "cell_type": "markdown",
   "id": "fd6c9c92-7da0-4e8b-a7e9-d72d5e51061b",
   "metadata": {},
   "source": [
    "<div style=\"color: #000000; border-left: 3px solid #DCDCDC; border-right: 3px solid #DCDCDC; margin-left: 20px; padding-left: 10px\">\n",
    "\n",
    "**Вывод:** Агрегированные данные проверены на пропуски.\n",
    "</div>"
   ]
  },
  {
   "cell_type": "code",
   "execution_count": 70,
   "id": "77e63d21-bb09-4b9e-bd52-0ad9addc8da9",
   "metadata": {},
   "outputs": [
    {
     "data": {
      "text/html": [
       "<div>\n",
       "<style scoped>\n",
       "    .dataframe tbody tr th:only-of-type {\n",
       "        vertical-align: middle;\n",
       "    }\n",
       "\n",
       "    .dataframe tbody tr th {\n",
       "        vertical-align: top;\n",
       "    }\n",
       "\n",
       "    .dataframe thead tr th {\n",
       "        text-align: left;\n",
       "    }\n",
       "\n",
       "    .dataframe thead tr:last-of-type th {\n",
       "        text-align: right;\n",
       "    }\n",
       "</style>\n",
       "<table border=\"1\" class=\"dataframe\">\n",
       "  <thead>\n",
       "    <tr>\n",
       "      <th></th>\n",
       "      <th></th>\n",
       "      <th></th>\n",
       "      <th></th>\n",
       "      <th></th>\n",
       "      <th colspan=\"2\" halign=\"left\">distance</th>\n",
       "      <th>duration</th>\n",
       "      <th>minute_price</th>\n",
       "      <th>start_ride_price</th>\n",
       "      <th>subscription_fee</th>\n",
       "      <th>subscription_type</th>\n",
       "    </tr>\n",
       "    <tr>\n",
       "      <th></th>\n",
       "      <th></th>\n",
       "      <th></th>\n",
       "      <th></th>\n",
       "      <th></th>\n",
       "      <th>count</th>\n",
       "      <th>sum</th>\n",
       "      <th>sum</th>\n",
       "      <th>mean</th>\n",
       "      <th>mean</th>\n",
       "      <th>mean</th>\n",
       "      <th>min</th>\n",
       "    </tr>\n",
       "    <tr>\n",
       "      <th>user_id</th>\n",
       "      <th>name</th>\n",
       "      <th>age</th>\n",
       "      <th>city</th>\n",
       "      <th>date_month</th>\n",
       "      <th></th>\n",
       "      <th></th>\n",
       "      <th></th>\n",
       "      <th></th>\n",
       "      <th></th>\n",
       "      <th></th>\n",
       "      <th></th>\n",
       "    </tr>\n",
       "  </thead>\n",
       "  <tbody>\n",
       "    <tr>\n",
       "      <th rowspan=\"5\" valign=\"top\">1</th>\n",
       "      <th rowspan=\"5\" valign=\"top\">Кира</th>\n",
       "      <th rowspan=\"5\" valign=\"top\">22</th>\n",
       "      <th rowspan=\"5\" valign=\"top\">Тюмень</th>\n",
       "      <th>1</th>\n",
       "      <td>2</td>\n",
       "      <td>7027.51</td>\n",
       "      <td>42</td>\n",
       "      <td>6</td>\n",
       "      <td>0</td>\n",
       "      <td>199</td>\n",
       "      <td>ultra</td>\n",
       "    </tr>\n",
       "    <tr>\n",
       "      <th>4</th>\n",
       "      <td>1</td>\n",
       "      <td>754.16</td>\n",
       "      <td>7</td>\n",
       "      <td>6</td>\n",
       "      <td>0</td>\n",
       "      <td>199</td>\n",
       "      <td>ultra</td>\n",
       "    </tr>\n",
       "    <tr>\n",
       "      <th>8</th>\n",
       "      <td>2</td>\n",
       "      <td>6723.47</td>\n",
       "      <td>46</td>\n",
       "      <td>6</td>\n",
       "      <td>0</td>\n",
       "      <td>199</td>\n",
       "      <td>ultra</td>\n",
       "    </tr>\n",
       "    <tr>\n",
       "      <th>10</th>\n",
       "      <td>2</td>\n",
       "      <td>5809.91</td>\n",
       "      <td>32</td>\n",
       "      <td>6</td>\n",
       "      <td>0</td>\n",
       "      <td>199</td>\n",
       "      <td>ultra</td>\n",
       "    </tr>\n",
       "    <tr>\n",
       "      <th>11</th>\n",
       "      <td>3</td>\n",
       "      <td>7003.50</td>\n",
       "      <td>56</td>\n",
       "      <td>6</td>\n",
       "      <td>0</td>\n",
       "      <td>199</td>\n",
       "      <td>ultra</td>\n",
       "    </tr>\n",
       "  </tbody>\n",
       "</table>\n",
       "</div>"
      ],
      "text/plain": [
       "                                   distance          duration minute_price  \\\n",
       "                                      count      sum      sum         mean   \n",
       "user_id name age city   date_month                                           \n",
       "1       Кира 22  Тюмень 1                 2  7027.51       42            6   \n",
       "                        4                 1   754.16        7            6   \n",
       "                        8                 2  6723.47       46            6   \n",
       "                        10                2  5809.91       32            6   \n",
       "                        11                3  7003.50       56            6   \n",
       "\n",
       "                                   start_ride_price subscription_fee  \\\n",
       "                                               mean             mean   \n",
       "user_id name age city   date_month                                     \n",
       "1       Кира 22  Тюмень 1                         0              199   \n",
       "                        4                         0              199   \n",
       "                        8                         0              199   \n",
       "                        10                        0              199   \n",
       "                        11                        0              199   \n",
       "\n",
       "                                   subscription_type  \n",
       "                                                 min  \n",
       "user_id name age city   date_month                    \n",
       "1       Кира 22  Тюмень 1                      ultra  \n",
       "                        4                      ultra  \n",
       "                        8                      ultra  \n",
       "                        10                     ultra  \n",
       "                        11                     ultra  "
      ]
     },
     "execution_count": 70,
     "metadata": {},
     "output_type": "execute_result"
    }
   ],
   "source": [
    "user_gener_table.head()"
   ]
  },
  {
   "cell_type": "code",
   "execution_count": 71,
   "id": "d4e866c2-6ec8-4c53-ae0b-5fcd2503ed57",
   "metadata": {},
   "outputs": [],
   "source": [
    "# Название столбцов\n",
    "user_gener_table.columns = ['count', \n",
    "                            'distance', \n",
    "                            'duration', \n",
    "                            'minute_price', \n",
    "                            'start_ride_price', \n",
    "                            'subscription_fee', \n",
    "                            'subscription_type'] "
   ]
  },
  {
   "cell_type": "code",
   "execution_count": 72,
   "id": "13f27187-709e-43e4-aa5b-9afcff075dd5",
   "metadata": {},
   "outputs": [
    {
     "data": {
      "text/html": [
       "<div>\n",
       "<style scoped>\n",
       "    .dataframe tbody tr th:only-of-type {\n",
       "        vertical-align: middle;\n",
       "    }\n",
       "\n",
       "    .dataframe tbody tr th {\n",
       "        vertical-align: top;\n",
       "    }\n",
       "\n",
       "    .dataframe thead th {\n",
       "        text-align: right;\n",
       "    }\n",
       "</style>\n",
       "<table border=\"1\" class=\"dataframe\">\n",
       "  <thead>\n",
       "    <tr style=\"text-align: right;\">\n",
       "      <th></th>\n",
       "      <th></th>\n",
       "      <th></th>\n",
       "      <th></th>\n",
       "      <th></th>\n",
       "      <th>count</th>\n",
       "      <th>distance</th>\n",
       "      <th>duration</th>\n",
       "      <th>minute_price</th>\n",
       "      <th>start_ride_price</th>\n",
       "      <th>subscription_fee</th>\n",
       "      <th>subscription_type</th>\n",
       "    </tr>\n",
       "    <tr>\n",
       "      <th>user_id</th>\n",
       "      <th>name</th>\n",
       "      <th>age</th>\n",
       "      <th>city</th>\n",
       "      <th>date_month</th>\n",
       "      <th></th>\n",
       "      <th></th>\n",
       "      <th></th>\n",
       "      <th></th>\n",
       "      <th></th>\n",
       "      <th></th>\n",
       "      <th></th>\n",
       "    </tr>\n",
       "  </thead>\n",
       "  <tbody>\n",
       "    <tr>\n",
       "      <th rowspan=\"5\" valign=\"top\">1</th>\n",
       "      <th rowspan=\"5\" valign=\"top\">Кира</th>\n",
       "      <th rowspan=\"5\" valign=\"top\">22</th>\n",
       "      <th rowspan=\"5\" valign=\"top\">Тюмень</th>\n",
       "      <th>1</th>\n",
       "      <td>2</td>\n",
       "      <td>7027.51</td>\n",
       "      <td>42</td>\n",
       "      <td>6</td>\n",
       "      <td>0</td>\n",
       "      <td>199</td>\n",
       "      <td>ultra</td>\n",
       "    </tr>\n",
       "    <tr>\n",
       "      <th>4</th>\n",
       "      <td>1</td>\n",
       "      <td>754.16</td>\n",
       "      <td>7</td>\n",
       "      <td>6</td>\n",
       "      <td>0</td>\n",
       "      <td>199</td>\n",
       "      <td>ultra</td>\n",
       "    </tr>\n",
       "    <tr>\n",
       "      <th>8</th>\n",
       "      <td>2</td>\n",
       "      <td>6723.47</td>\n",
       "      <td>46</td>\n",
       "      <td>6</td>\n",
       "      <td>0</td>\n",
       "      <td>199</td>\n",
       "      <td>ultra</td>\n",
       "    </tr>\n",
       "    <tr>\n",
       "      <th>10</th>\n",
       "      <td>2</td>\n",
       "      <td>5809.91</td>\n",
       "      <td>32</td>\n",
       "      <td>6</td>\n",
       "      <td>0</td>\n",
       "      <td>199</td>\n",
       "      <td>ultra</td>\n",
       "    </tr>\n",
       "    <tr>\n",
       "      <th>11</th>\n",
       "      <td>3</td>\n",
       "      <td>7003.50</td>\n",
       "      <td>56</td>\n",
       "      <td>6</td>\n",
       "      <td>0</td>\n",
       "      <td>199</td>\n",
       "      <td>ultra</td>\n",
       "    </tr>\n",
       "  </tbody>\n",
       "</table>\n",
       "</div>"
      ],
      "text/plain": [
       "                                    count  distance  duration  minute_price  \\\n",
       "user_id name age city   date_month                                            \n",
       "1       Кира 22  Тюмень 1               2   7027.51        42             6   \n",
       "                        4               1    754.16         7             6   \n",
       "                        8               2   6723.47        46             6   \n",
       "                        10              2   5809.91        32             6   \n",
       "                        11              3   7003.50        56             6   \n",
       "\n",
       "                                    start_ride_price  subscription_fee  \\\n",
       "user_id name age city   date_month                                       \n",
       "1       Кира 22  Тюмень 1                          0               199   \n",
       "                        4                          0               199   \n",
       "                        8                          0               199   \n",
       "                        10                         0               199   \n",
       "                        11                         0               199   \n",
       "\n",
       "                                   subscription_type  \n",
       "user_id name age city   date_month                    \n",
       "1       Кира 22  Тюмень 1                      ultra  \n",
       "                        4                      ultra  \n",
       "                        8                      ultra  \n",
       "                        10                     ultra  \n",
       "                        11                     ultra  "
      ]
     },
     "execution_count": 72,
     "metadata": {},
     "output_type": "execute_result"
    }
   ],
   "source": [
    "user_gener_table.head(5)"
   ]
  },
  {
   "cell_type": "code",
   "execution_count": 73,
   "id": "a8a326bc-4a2a-436c-b53e-f7c927a1653a",
   "metadata": {},
   "outputs": [
    {
     "data": {
      "text/html": [
       "<div>\n",
       "<style scoped>\n",
       "    .dataframe tbody tr th:only-of-type {\n",
       "        vertical-align: middle;\n",
       "    }\n",
       "\n",
       "    .dataframe tbody tr th {\n",
       "        vertical-align: top;\n",
       "    }\n",
       "\n",
       "    .dataframe thead th {\n",
       "        text-align: right;\n",
       "    }\n",
       "</style>\n",
       "<table border=\"1\" class=\"dataframe\">\n",
       "  <thead>\n",
       "    <tr style=\"text-align: right;\">\n",
       "      <th></th>\n",
       "      <th></th>\n",
       "      <th></th>\n",
       "      <th></th>\n",
       "      <th></th>\n",
       "      <th>count</th>\n",
       "      <th>distance</th>\n",
       "      <th>duration</th>\n",
       "      <th>minute_price</th>\n",
       "      <th>start_ride_price</th>\n",
       "      <th>subscription_fee</th>\n",
       "      <th>subscription_type</th>\n",
       "    </tr>\n",
       "    <tr>\n",
       "      <th>user_id</th>\n",
       "      <th>name</th>\n",
       "      <th>age</th>\n",
       "      <th>city</th>\n",
       "      <th>date_month</th>\n",
       "      <th></th>\n",
       "      <th></th>\n",
       "      <th></th>\n",
       "      <th></th>\n",
       "      <th></th>\n",
       "      <th></th>\n",
       "      <th></th>\n",
       "    </tr>\n",
       "  </thead>\n",
       "  <tbody>\n",
       "    <tr>\n",
       "      <th rowspan=\"5\" valign=\"top\">1534</th>\n",
       "      <th rowspan=\"5\" valign=\"top\">Альберт</th>\n",
       "      <th rowspan=\"5\" valign=\"top\">25</th>\n",
       "      <th rowspan=\"5\" valign=\"top\">Краснодар</th>\n",
       "      <th>6</th>\n",
       "      <td>2</td>\n",
       "      <td>3409.47</td>\n",
       "      <td>26</td>\n",
       "      <td>8</td>\n",
       "      <td>50</td>\n",
       "      <td>0</td>\n",
       "      <td>free</td>\n",
       "    </tr>\n",
       "    <tr>\n",
       "      <th>8</th>\n",
       "      <td>2</td>\n",
       "      <td>7622.45</td>\n",
       "      <td>48</td>\n",
       "      <td>8</td>\n",
       "      <td>50</td>\n",
       "      <td>0</td>\n",
       "      <td>free</td>\n",
       "    </tr>\n",
       "    <tr>\n",
       "      <th>9</th>\n",
       "      <td>1</td>\n",
       "      <td>4928.17</td>\n",
       "      <td>23</td>\n",
       "      <td>8</td>\n",
       "      <td>50</td>\n",
       "      <td>0</td>\n",
       "      <td>free</td>\n",
       "    </tr>\n",
       "    <tr>\n",
       "      <th>11</th>\n",
       "      <td>4</td>\n",
       "      <td>13350.02</td>\n",
       "      <td>78</td>\n",
       "      <td>8</td>\n",
       "      <td>50</td>\n",
       "      <td>0</td>\n",
       "      <td>free</td>\n",
       "    </tr>\n",
       "    <tr>\n",
       "      <th>12</th>\n",
       "      <td>1</td>\n",
       "      <td>2371.71</td>\n",
       "      <td>16</td>\n",
       "      <td>8</td>\n",
       "      <td>50</td>\n",
       "      <td>0</td>\n",
       "      <td>free</td>\n",
       "    </tr>\n",
       "  </tbody>\n",
       "</table>\n",
       "</div>"
      ],
      "text/plain": [
       "                                          count  distance  duration  \\\n",
       "user_id name    age city      date_month                              \n",
       "1534    Альберт 25  Краснодар 6               2   3409.47        26   \n",
       "                              8               2   7622.45        48   \n",
       "                              9               1   4928.17        23   \n",
       "                              11              4  13350.02        78   \n",
       "                              12              1   2371.71        16   \n",
       "\n",
       "                                          minute_price  start_ride_price  \\\n",
       "user_id name    age city      date_month                                   \n",
       "1534    Альберт 25  Краснодар 6                      8                50   \n",
       "                              8                      8                50   \n",
       "                              9                      8                50   \n",
       "                              11                     8                50   \n",
       "                              12                     8                50   \n",
       "\n",
       "                                          subscription_fee subscription_type  \n",
       "user_id name    age city      date_month                                      \n",
       "1534    Альберт 25  Краснодар 6                          0              free  \n",
       "                              8                          0              free  \n",
       "                              9                          0              free  \n",
       "                              11                         0              free  \n",
       "                              12                         0              free  "
      ]
     },
     "execution_count": 73,
     "metadata": {},
     "output_type": "execute_result"
    }
   ],
   "source": [
    "user_gener_table.tail()"
   ]
  },
  {
   "cell_type": "markdown",
   "id": "b690ecb4-0f5e-44bb-9add-78b766737324",
   "metadata": {},
   "source": [
    "<div style=\"color: #000000; border-left: 3px solid #DCDCDC; border-right: 3px solid #DCDCDC; margin-left: 20px; padding-left: 10px\">\n",
    "\n",
    "**Вывод:** Создана сводная таблица по каждому пользователю за месяц.\n",
    "</div>"
   ]
  },
  {
   "cell_type": "code",
   "execution_count": 74,
   "id": "ac38e34c-e948-4f74-a2aa-fb734f4fac5f",
   "metadata": {},
   "outputs": [],
   "source": [
    "def revenue(row):\n",
    "    if row['subscription_type'] == 'ultra':\n",
    "        return row['minute_price'] * row['duration'] + row['subscription_fee']\n",
    "    elif row['subscription_type'] == 'free':\n",
    "        return row['minute_price'] * row['duration'] + row['start_ride_price'] * row['count']\n",
    "    else:\n",
    "        'no_such_category'"
   ]
  },
  {
   "cell_type": "code",
   "execution_count": 75,
   "id": "2fd037a2-faef-4bcb-a710-adec7c0efd89",
   "metadata": {},
   "outputs": [],
   "source": [
    "user_gener_table['monthly_revenue'] = user_gener_table.apply(revenue, axis=1)"
   ]
  },
  {
   "cell_type": "code",
   "execution_count": 76,
   "id": "796cce67-5e28-4c6b-98bc-3a0eaacc2e0e",
   "metadata": {},
   "outputs": [
    {
     "data": {
      "text/html": [
       "<div>\n",
       "<style scoped>\n",
       "    .dataframe tbody tr th:only-of-type {\n",
       "        vertical-align: middle;\n",
       "    }\n",
       "\n",
       "    .dataframe tbody tr th {\n",
       "        vertical-align: top;\n",
       "    }\n",
       "\n",
       "    .dataframe thead th {\n",
       "        text-align: right;\n",
       "    }\n",
       "</style>\n",
       "<table border=\"1\" class=\"dataframe\">\n",
       "  <thead>\n",
       "    <tr style=\"text-align: right;\">\n",
       "      <th></th>\n",
       "      <th></th>\n",
       "      <th></th>\n",
       "      <th></th>\n",
       "      <th></th>\n",
       "      <th>count</th>\n",
       "      <th>distance</th>\n",
       "      <th>duration</th>\n",
       "      <th>minute_price</th>\n",
       "      <th>start_ride_price</th>\n",
       "      <th>subscription_fee</th>\n",
       "      <th>subscription_type</th>\n",
       "      <th>monthly_revenue</th>\n",
       "    </tr>\n",
       "    <tr>\n",
       "      <th>user_id</th>\n",
       "      <th>name</th>\n",
       "      <th>age</th>\n",
       "      <th>city</th>\n",
       "      <th>date_month</th>\n",
       "      <th></th>\n",
       "      <th></th>\n",
       "      <th></th>\n",
       "      <th></th>\n",
       "      <th></th>\n",
       "      <th></th>\n",
       "      <th></th>\n",
       "      <th></th>\n",
       "    </tr>\n",
       "  </thead>\n",
       "  <tbody>\n",
       "    <tr>\n",
       "      <th rowspan=\"5\" valign=\"top\">1</th>\n",
       "      <th rowspan=\"5\" valign=\"top\">Кира</th>\n",
       "      <th rowspan=\"5\" valign=\"top\">22</th>\n",
       "      <th rowspan=\"5\" valign=\"top\">Тюмень</th>\n",
       "      <th>1</th>\n",
       "      <td>2</td>\n",
       "      <td>7027.51</td>\n",
       "      <td>42</td>\n",
       "      <td>6</td>\n",
       "      <td>0</td>\n",
       "      <td>199</td>\n",
       "      <td>ultra</td>\n",
       "      <td>451</td>\n",
       "    </tr>\n",
       "    <tr>\n",
       "      <th>4</th>\n",
       "      <td>1</td>\n",
       "      <td>754.16</td>\n",
       "      <td>7</td>\n",
       "      <td>6</td>\n",
       "      <td>0</td>\n",
       "      <td>199</td>\n",
       "      <td>ultra</td>\n",
       "      <td>241</td>\n",
       "    </tr>\n",
       "    <tr>\n",
       "      <th>8</th>\n",
       "      <td>2</td>\n",
       "      <td>6723.47</td>\n",
       "      <td>46</td>\n",
       "      <td>6</td>\n",
       "      <td>0</td>\n",
       "      <td>199</td>\n",
       "      <td>ultra</td>\n",
       "      <td>475</td>\n",
       "    </tr>\n",
       "    <tr>\n",
       "      <th>10</th>\n",
       "      <td>2</td>\n",
       "      <td>5809.91</td>\n",
       "      <td>32</td>\n",
       "      <td>6</td>\n",
       "      <td>0</td>\n",
       "      <td>199</td>\n",
       "      <td>ultra</td>\n",
       "      <td>391</td>\n",
       "    </tr>\n",
       "    <tr>\n",
       "      <th>11</th>\n",
       "      <td>3</td>\n",
       "      <td>7003.50</td>\n",
       "      <td>56</td>\n",
       "      <td>6</td>\n",
       "      <td>0</td>\n",
       "      <td>199</td>\n",
       "      <td>ultra</td>\n",
       "      <td>535</td>\n",
       "    </tr>\n",
       "  </tbody>\n",
       "</table>\n",
       "</div>"
      ],
      "text/plain": [
       "                                    count  distance  duration  minute_price  \\\n",
       "user_id name age city   date_month                                            \n",
       "1       Кира 22  Тюмень 1               2   7027.51        42             6   \n",
       "                        4               1    754.16         7             6   \n",
       "                        8               2   6723.47        46             6   \n",
       "                        10              2   5809.91        32             6   \n",
       "                        11              3   7003.50        56             6   \n",
       "\n",
       "                                    start_ride_price  subscription_fee  \\\n",
       "user_id name age city   date_month                                       \n",
       "1       Кира 22  Тюмень 1                          0               199   \n",
       "                        4                          0               199   \n",
       "                        8                          0               199   \n",
       "                        10                         0               199   \n",
       "                        11                         0               199   \n",
       "\n",
       "                                   subscription_type  monthly_revenue  \n",
       "user_id name age city   date_month                                     \n",
       "1       Кира 22  Тюмень 1                      ultra              451  \n",
       "                        4                      ultra              241  \n",
       "                        8                      ultra              475  \n",
       "                        10                     ultra              391  \n",
       "                        11                     ultra              535  "
      ]
     },
     "execution_count": 76,
     "metadata": {},
     "output_type": "execute_result"
    }
   ],
   "source": [
    "user_gener_table.head()"
   ]
  },
  {
   "cell_type": "code",
   "execution_count": 77,
   "id": "82329ba7-f7fa-42d3-b40c-d002fdcfc6b7",
   "metadata": {},
   "outputs": [],
   "source": [
    "ultra_revenue = user_gener_table.loc[user_gener_table['subscription_type'] == 'ultra', \n",
    "                                     'monthly_revenue'].sum()"
   ]
  },
  {
   "cell_type": "code",
   "execution_count": 78,
   "id": "59065776-b96a-4396-a09e-d62742ddd238",
   "metadata": {},
   "outputs": [],
   "source": [
    "ultra_revenue_mean = user_gener_table.loc[user_gener_table['subscription_type'] == 'ultra', \n",
    "                                          'monthly_revenue'].mean().round(2)  "
   ]
  },
  {
   "cell_type": "code",
   "execution_count": 79,
   "id": "3b55b2c6-dd74-4025-b14c-ac6e51fbe1d3",
   "metadata": {},
   "outputs": [],
   "source": [
    "free_revenue_mean = user_gener_table.loc[user_gener_table['subscription_type'] == 'free', \n",
    "                                         'monthly_revenue'].mean().round(2)"
   ]
  },
  {
   "cell_type": "code",
   "execution_count": 80,
   "id": "ba4f299b-f6e9-44e8-a6c5-41afb0c7e9f6",
   "metadata": {},
   "outputs": [],
   "source": [
    "free_revenue = user_gener_table.loc[user_gener_table['subscription_type'] == 'free', \n",
    "                                    'monthly_revenue'].sum()"
   ]
  },
  {
   "cell_type": "code",
   "execution_count": 81,
   "id": "ccdfddaa-264b-402d-93af-a201fcdaa783",
   "metadata": {},
   "outputs": [
    {
     "data": {
      "text/plain": [
       "'Общая выручка от платных подписчиков за 12 месяцев = 1644537₽.'"
      ]
     },
     "metadata": {},
     "output_type": "display_data"
    }
   ],
   "source": [
    "display(f'Общая выручка от платных подписчиков за 12 месяцев = {ultra_revenue}₽.')"
   ]
  },
  {
   "cell_type": "code",
   "execution_count": 82,
   "id": "d6e7457f-1a28-47f7-8a71-50bd7cae705a",
   "metadata": {},
   "outputs": [
    {
     "data": {
      "text/plain": [
       "'Общая от пользователей без подписки за 12 месяцев = 2234104₽.'"
      ]
     },
     "metadata": {},
     "output_type": "display_data"
    }
   ],
   "source": [
    "display(f'Общая от пользователей без подписки за 12 месяцев = {free_revenue}₽.')"
   ]
  },
  {
   "cell_type": "code",
   "execution_count": 83,
   "id": "f447d2fb-69cd-4742-89f1-56cf87ed0199",
   "metadata": {},
   "outputs": [
    {
     "data": {
      "text/plain": [
       "'В среднем за месяц от пользователя с подпиской = 362.79₽.'"
      ]
     },
     "metadata": {},
     "output_type": "display_data"
    }
   ],
   "source": [
    "display(f'В среднем за месяц от пользователя с подпиской = {ultra_revenue_mean}₽.')"
   ]
  },
  {
   "cell_type": "code",
   "execution_count": 84,
   "id": "c3dbebb3-cb76-4727-ad0c-1fdb0c8e81b1",
   "metadata": {},
   "outputs": [
    {
     "data": {
      "text/plain": [
       "'В среднем за месяц от пользователя без подписки = 328.64₽.'"
      ]
     },
     "metadata": {},
     "output_type": "display_data"
    }
   ],
   "source": [
    "display(f'В среднем за месяц от пользователя без подписки = {free_revenue_mean}₽.')"
   ]
  },
  {
   "cell_type": "code",
   "execution_count": 85,
   "id": "8a9ee968-759d-45f5-a0aa-b204eadba4a7",
   "metadata": {},
   "outputs": [
    {
     "data": {
      "text/plain": [
       "'Общая выручка сервиса GoFast 3878641₽'"
      ]
     },
     "metadata": {},
     "output_type": "display_data"
    }
   ],
   "source": [
    "display(f\"Общая выручка сервиса GoFast {user_gener_table['monthly_revenue'].sum()}₽\")"
   ]
  },
  {
   "cell_type": "markdown",
   "id": "9bafba79-7dd9-4209-9cbe-77b446b4302c",
   "metadata": {},
   "source": [
    "<div style=\"color: #000000; border-left: 3px solid #DCDCDC; border-right: 3px solid #DCDCDC; margin-left: 20px; padding-left: 10px\">\n",
    "\n",
    "**Вывод:** За 12 месяцев сервис GoFast заработал сумму 3878641₽, от пользователей с подпиской 1644537₽ и без подписки 2234104₽, в среднем сервис зарабатывает 362.79₽ от пользователя с подпиской и 328.64₽ без подписки. \n",
    "</div>"
   ]
  },
  {
   "cell_type": "markdown",
   "id": "1b220565-ced3-4a1f-bd3d-554ac2d4a82a",
   "metadata": {},
   "source": [
    "<div style=\"color: #000000; border-radius: 10px; box-shadow: 2px 2px 4px; border: 1px solid; background:#DCDCDC; padding: 10px;\">\n",
    "\n",
    "**Вывод по разделу:** \n",
    "- Создана сводная таблица по каждому пользователю за каждый месяц на основе 4 шага с столбцами `count`, `distance`, `duration`, `minute_price`, `start_ride_price`, `subscription_fee`, `monthly_revenue` и строками `user_id`, `name`, `age`, `city`, `subscription_type`, `date_month\t`.\n",
    "- Добавлен новый столбец с подсчётом помесячной выручки `monthly_revenue`.\n",
    "</div>"
   ]
  },
  {
   "cell_type": "markdown",
   "id": "39e7b999-28ab-44bd-bf32-94e3b527effb",
   "metadata": {},
   "source": [
    "# Шаг 6. Проверка гипотез"
   ]
  },
  {
   "cell_type": "markdown",
   "id": "5ae5dc31-70db-4f5a-ad78-5c5b533b17d1",
   "metadata": {},
   "source": [
    "## Тратят ли пользователи с подпиской больше времени на поездки?"
   ]
  },
  {
   "cell_type": "code",
   "execution_count": null,
   "id": "64a05e27-c94e-48d9-9fce-f6b6814cbf78",
   "metadata": {},
   "outputs": [],
   "source": [
    "alpha = 0.05 # уровень статистической значимости"
   ]
  },
  {
   "cell_type": "code",
   "execution_count": null,
   "id": "28e40a3c-7a7c-44d1-8bca-eb1c3a92175c",
   "metadata": {},
   "outputs": [],
   "source": [
    "results = st.ttest_ind(general_table_ultra['duration'], general_table_free['duration'], alternative='greater')"
   ]
  },
  {
   "cell_type": "code",
   "execution_count": null,
   "id": "6e97c016-e151-422e-875a-76127b67c8d5",
   "metadata": {},
   "outputs": [],
   "source": [
    "print('p-значение:', results.pvalue)"
   ]
  },
  {
   "cell_type": "code",
   "execution_count": null,
   "id": "30647b8e-06b9-4dfa-8ceb-8503366a6306",
   "metadata": {},
   "outputs": [],
   "source": [
    "if results.pvalue < alpha:\n",
    "    print('Отвергаем нулевую гипотезу')\n",
    "else:\n",
    "    print('Не получилось отвергнуть нулевую гипотезу') "
   ]
  },
  {
   "cell_type": "markdown",
   "id": "b0566469-165d-4a10-8b10-2308e2803bc8",
   "metadata": {},
   "source": [
    "<div style=\"color: #000000; border-left: 3px solid #DCDCDC; border-right: 3px solid #DCDCDC; margin-left: 20px; padding-left: 10px\">\n",
    "\n",
    "**Вывод:** \n",
    "- За H0 - Средняя продолжительность поездок пользователей с подпиской ultra и без free одинакова.\n",
    "- За H1 - Средняя продолжительность поездок пользователей с подпиской ultra превышает среднюю продолжительность поездок пользователей без подписки free.\n",
    "- гипотеза была проверена с помощью метода `ttest_ind()` и в качестве `alternative` был указан параметр `greater`(больше).\n",
    "- Полученное значение `p-value: 2.495945372073663e-34` крайне мало - вероятность получения одинаковых результатов, что пользователи с подпиской и без тратят одинаковое время, если нулевая гипотеза верна, крайне мала. Это указывает на высокую статистическую значимость полученных данных.\n",
    "- Бизнесу выгодно, когда пользователи с подпиской тратят больше времени на поездки, потому что это увеличивает их лояльность к бренду и частоту использования его услуг. Подписчики получают комплексные скидки, эксклюзивные форматы подписок и доступ к нескольким сервисам одновременно, что делает их более привязанными к компании и готовыми тратить больше денег на её услуги.    \n",
    "</div>"
   ]
  },
  {
   "cell_type": "markdown",
   "id": "d27e838d-12f8-4e5e-ac5a-f0c88a47b0c0",
   "metadata": {},
   "source": [
    "## Превышает ли расстояние одной поездки пользователей с подпиской 3130 метров?"
   ]
  },
  {
   "cell_type": "code",
   "execution_count": null,
   "id": "c1f44679-cb93-4a34-8c18-1ab11e16ad2f",
   "metadata": {},
   "outputs": [],
   "source": [
    "alpha = 0.05 # уровень статистической значимости"
   ]
  },
  {
   "cell_type": "code",
   "execution_count": null,
   "id": "5d5ed7a1-a964-4af3-91c4-e75ebeb48156",
   "metadata": {},
   "outputs": [],
   "source": [
    "distance = 3130 # Н0"
   ]
  },
  {
   "cell_type": "code",
   "execution_count": null,
   "id": "bbac71bd-7605-44d2-9d8a-0c93d36c6195",
   "metadata": {},
   "outputs": [],
   "source": [
    "results = st.ttest_1samp(general_table_ultra['distance'], distance,  alternative='greater')"
   ]
  },
  {
   "cell_type": "code",
   "execution_count": null,
   "id": "b95c5d68-9e02-46ea-9c3a-1a8b227a2b32",
   "metadata": {},
   "outputs": [],
   "source": [
    "print('p-значение:', results.pvalue)"
   ]
  },
  {
   "cell_type": "code",
   "execution_count": null,
   "id": "e75d33e1-8975-46fd-8699-31338a8f6eb1",
   "metadata": {},
   "outputs": [],
   "source": [
    "if results.pvalue < alpha:\n",
    "    print('Отвергаем нулевую гипотезу')\n",
    "else:\n",
    "    print('Не получилось отвергнуть нулевую гипотезу') "
   ]
  },
  {
   "cell_type": "markdown",
   "id": "63468b00-54a9-4cb0-b1b3-fd4e1d9989c5",
   "metadata": {},
   "source": [
    "<div style=\"color: #000000; border-left: 3px solid #DCDCDC; border-right: 3px solid #DCDCDC; margin-left: 20px; padding-left: 10px\">\n",
    "\n",
    "**Вывод:** \n",
    "- За H0 - среднее расстояние равно 3130 метров.\n",
    "- За H1 - среднее расстояние более 3130 метров.\n",
    "- гипотеза была проверена с помощью метода `ttest_1samp` и в качестве `alternative` был указан параметр `greater`(правосторонней).\n",
    "- Полученное значение `p-value: 0.9195362605842414` больше заданного уровня значимости, поэтому не получилось отвергнуть нулевую гипотезу. Расстояние 3130 выгодно бизнесу с точки зрения износа самокатов, потому что на таком расстоянии стоимость аренды самоката покрывает его износ. Это позволяет бизнесу получать прибыль и компенсировать затраты на обслуживание и ремонт самокатов.\n",
    "</div>"
   ]
  },
  {
   "cell_type": "markdown",
   "id": "c15e6e52-e590-4b9e-b363-3a1e911e28b1",
   "metadata": {},
   "source": [
    "## Выше ли помесячная выручка от пользователей с подпиской, чем выручка пользователей без подписки?"
   ]
  },
  {
   "cell_type": "code",
   "execution_count": null,
   "id": "d709630b-01b9-4280-9712-7143cf5607dd",
   "metadata": {},
   "outputs": [],
   "source": [
    "alpha = 0.05 # уровень статистической значимости"
   ]
  },
  {
   "cell_type": "code",
   "execution_count": null,
   "id": "24be6800-764a-48d2-9503-1e080c5f4d16",
   "metadata": {},
   "outputs": [],
   "source": [
    "results = st.ttest_ind( \\\n",
    "    user_gener_table.loc[user_gener_table['subscription_fee'] > 0, 'monthly_revenue'], \n",
    "    user_gener_table.loc[user_gener_table['subscription_fee'] == 0, 'monthly_revenue'], alternative='greater') "
   ]
  },
  {
   "cell_type": "code",
   "execution_count": null,
   "id": "385bd503-98a6-4dd8-a9c1-3cdb809542d7",
   "metadata": {},
   "outputs": [],
   "source": [
    "print('p-значение:', results.pvalue)"
   ]
  },
  {
   "cell_type": "code",
   "execution_count": null,
   "id": "d4697410-b213-4e16-b721-5c133e4388dc",
   "metadata": {},
   "outputs": [],
   "source": [
    "if results.pvalue < alpha:\n",
    "    print('Отвергаем нулевую гипотезу')\n",
    "else:\n",
    "    print('Не получилось отвергнуть нулевую гипотезу')"
   ]
  },
  {
   "cell_type": "markdown",
   "id": "3f5ea209-8a5a-4ffa-b60c-f9bd7c528c24",
   "metadata": {},
   "source": [
    "<div style=\"color: #000000; border-left: 3px solid #DCDCDC; border-right: 3px solid #DCDCDC; margin-left: 20px; padding-left: 10px\">\n",
    "\n",
    "**Вывод:** \n",
    "- За H0 -  выручка от пользователей с подпиской равна выручке пользователей без подписки.\n",
    "- За H1 - выручка от пользователей с подпиской выше, чем от пользователей без подписки.\n",
    "- гипотеза была проверена с помощью метода `ttest_ind` и в качестве `alternative` был указан параметр `greater`(больше).\n",
    "- Полученное значение `p-value: 1.1914705742669238e-43` меньше заданного уровня значимости, поэтому можно отвергнуть нулевую гипотезу.\n",
    "- Скорее всего это связано с тем, что пользователи с подпиской готовы платить за дополнительные функции и контент, которые представляет подписка.\n",
    "</div>"
   ]
  },
  {
   "cell_type": "markdown",
   "id": "500bd54e-0b20-4b01-8e62-1254f91e4604",
   "metadata": {},
   "source": [
    "## Снизилось ли количество обращений в поддержку?"
   ]
  },
  {
   "cell_type": "code",
   "execution_count": 86,
   "id": "44c0e42b-ed30-4483-95e1-56cc3817b6e2",
   "metadata": {},
   "outputs": [
    {
     "name": "stdout",
     "output_type": "stream",
     "text": [
      "Среднее до: 591.73\n",
      "Среднее после: 932.07\n",
      "p-значение: 0.9946052480895945\n",
      "Не получилось отвергнуть нулевую гипотезу о равенстве среднего количества обращений\n"
     ]
    }
   ],
   "source": [
    "# Пример с искусственно созданными выборками\n",
    "requests_before = [821, 1164, 598, 854, 455, 1220, 161, 1400, 479, 215, \n",
    "          564, 159, 920, 173, 276, 444, 273, 711, 291, 880, \n",
    "          892, 712, 16, 476, 498, 9, 1251, 938, 389, 513]\n",
    "\n",
    "requests_after = [904, 220, 676, 459, 299, 659, 1698, 1120, 514, 1086, 1499, \n",
    "         1262, 829, 476, 1149, 996, 1247, 1117, 1324, 532, 1458, 898, \n",
    "         1837, 455, 1667, 898, 474, 558, 639, 1012]\n",
    "\n",
    "print('Среднее до:', pd.Series(requests_before).mean().round(2))\n",
    "print('Среднее после:', pd.Series(requests_after).mean().round(2))\n",
    "\n",
    "alpha = 0.05 # уровень статистической значимости\n",
    "\n",
    "results = st.ttest_rel(requests_after, requests_before, alternative='less')\n",
    "\n",
    "# p-значение\n",
    "print('p-значение:', results.pvalue)\n",
    "\n",
    "if results.pvalue < alpha: # сравнение p-значение с заданным уровнем стат. значимости\n",
    "    print('Отвергаем нулевую гипотезу о равенстве среднего количества обращений')\n",
    "else:\n",
    "    print('Не получилось отвергнуть нулевую гипотезу о равенстве среднего количества обращений')"
   ]
  },
  {
   "cell_type": "markdown",
   "id": "3f95e9c3-63e9-4be7-bced-cee835fdcea2",
   "metadata": {},
   "source": [
    "<div style=\"color: #000000; border-left: 3px solid #DCDCDC; border-right: 3px solid #DCDCDC; margin-left: 20px; padding-left: 10px\">\n",
    "\n",
    "**Вывод:** \n",
    "\n",
    "Гипотезы в таком случае будут сформулированы так:\n",
    "- μ1 и μ2 - средние значения до и после изменения.\n",
    "- За H0 - среднее колличество обращений не изменилось μ1=μ2.\n",
    "- За H1 - среднее колличество обращений увеличилось μ1 < μ2.\n",
    "        \n",
    "- гипотеза была бы проверена с помощью метода `scipy.stats.ttest_rel()`, выборки в этом случае будут зависимыми, в качестве аргумента следует указать `alternative='less'`, проверится левосторонняя альтернативная гипотеза о том, что истинное среднее генеральной совокупности, из которой взяли первую выборку, меньше, чем истинное среднее генеральной совокупности, из которой взяли вторую.\n",
    "</div>"
   ]
  },
  {
   "cell_type": "markdown",
   "id": "26386b9e-aa77-4f30-bcf9-e6c07891fbaa",
   "metadata": {},
   "source": [
    "<div style=\"color: #000000; border-radius: 10px; box-shadow: 2px 2px 4px; border: 1px solid; background:#DCDCDC; padding: 10px;\">\n",
    "\n",
    "**Вывод по разделу:** \n",
    "- Проверена гипатеза о том, что пользователи с подпиской тратят больше времени на поездки, нулевая гипотеза была отвергнута, так как `p-value: 2.495945372073663e-34` получился ниже уровня статистической значимости.\n",
    "- Проверена гипотеза о том, что среднее расстояние одной поездки пользователей с подпиской равно 3130 метров и является оптимальным с точки зрения износа самоката, нулевую гипотезу не получилось отвергнуть, так как `p-value: 0.9195362605842414` получился больше уровня статистической значимости.\n",
    "- Проверена гипотеза о том, что помесячная выручка пользователей с платной подпиской больше, чем пользователей с бесплатной, нулевая гипотеза была отвергнута, так как `p-value: 1.1914705742669238e-43` получился больше уровня статистической значимости.\n",
    "- сформулирован вывод о том, что 2 зависимые выборки проверяются с помощью метода `scipy.stats.ttest_rel()`, передается наборы данных до и после, оба должны быть одинаковыми по размеру.\n",
    "</div>"
   ]
  },
  {
   "cell_type": "markdown",
   "id": "d380edfd-9fad-451c-97a0-f1c640c32e70",
   "metadata": {},
   "source": [
    "# Шаг 7 Распределения"
   ]
  },
  {
   "cell_type": "markdown",
   "id": "a36e643e-0858-4a31-a33e-2acf0e5da4f7",
   "metadata": {},
   "source": [
    "## Задание №1 "
   ]
  },
  {
   "cell_type": "code",
   "execution_count": 87,
   "id": "251765ad-d9e2-493d-86d0-f8d93c10116a",
   "metadata": {},
   "outputs": [
    {
     "name": "stdout",
     "output_type": "stream",
     "text": [
      "Количество промокодов 1093 при котором вероятность не выполнить план < 5.0 %\n"
     ]
    },
    {
     "data": {
      "image/png": "[encoded data removed]",
      "text/plain": [
       "<Figure size 640x480 with 1 Axes>"
      ]
     },
     "metadata": {},
     "output_type": "display_data"
    }
   ],
   "source": [
    "n = 1000\n",
    "p = 0.1\n",
    "binom_cdf = 0.05\n",
    "\n",
    "for k in range(0, n + 1):\n",
    "    if binom_cdf >= binom.cdf(k, n, p):\n",
    "        n += 1 \n",
    "    else:\n",
    "        print(f'Количество промокодов {n} при котором вероятность не выполнить план < {binom.cdf(k, n, p).round(2)*100} %')\n",
    "        break\n",
    "    \n",
    "\n",
    "mu = n * p # Математическое ожидание\n",
    "sigma = (n * p * (1 - p))**0.5 # Стандартное отклонение  - корень из дисперсии\n",
    "\n",
    "\n",
    "# Границы промежутка mu плюс-минус 4 sigma\n",
    "arange = np.arange((mu - 4 * sigma),(mu + 4 * sigma),1)\n",
    "\n",
    "# Используется синия линия ширины 2\n",
    "plt.plot(arange, st.norm.pdf(arange, mu, sigma), 'b-', lw=2)\n",
    "plt.axvline(x=k, color='red')\n",
    "plt.axvline(x=mu, color='green')\n",
    "plt.xlabel('Ось Х', fontsize=10, fontweight=\"bold\")\n",
    "plt.ylabel('Oсь Y', fontsize=10, fontweight=\"bold\")\n",
    "plt.show()"
   ]
  },
  {
   "cell_type": "markdown",
   "id": "d765366a-fec6-40fc-9d07-a8197ff44420",
   "metadata": {},
   "source": [
    "<div style=\"color: #000000; border-left: 3px solid #DCDCDC; border-right: 3px solid #DCDCDC; margin-left: 20px; padding-left: 10px\">\n",
    "\n",
    "**Вывод:** \n",
    "- Количество необходимых промокодов 1093, для того, чтобы 100 существующих клиентов продлили подписку, при вероятности не выполнить план 5%.\n",
    "\n",
    "</div>"
   ]
  },
  {
   "cell_type": "markdown",
   "id": "2e64fcde-cca0-4c94-a70f-a74348737896",
   "metadata": {},
   "source": [
    "## Задание №2"
   ]
  },
  {
   "cell_type": "code",
   "execution_count": 88,
   "id": "5aa119ea-4d5c-47d4-94f3-8fe333eeedc9",
   "metadata": {},
   "outputs": [
    {
     "name": "stdout",
     "output_type": "stream",
     "text": [
      "Вероятность, что уведомление откроют не более 399,5 тыс. пользователей: 15.37%\n"
     ]
    },
    {
     "data": {
      "image/png": "[encoded data removed]",
      "text/plain": [
       "<Figure size 640x480 with 1 Axes>"
      ]
     },
     "metadata": {},
     "output_type": "display_data"
    }
   ],
   "source": [
    "n = 1000000\n",
    "p = 0.4\n",
    "\n",
    "mu = n * p # Математическое ожидание\n",
    "\n",
    "sigma = (n * p * (1 - p))**0.5 # Стандартное отклонение  - корень из дисперсии\n",
    "\n",
    "# задано нормальное распределение \n",
    "distr = st.norm(mu, sigma)\n",
    "\n",
    "# значение, для которого хотим найти вероятность\n",
    "x = 399500\n",
    "\n",
    "# считаем вероятность получить значение, равное x или меньше \n",
    "result = distr.cdf(x)\n",
    "print('Вероятность, что уведомление откроют не более 399,5 тыс. пользователей:', '{:.2%}'.format(result))\n",
    "\n",
    "\n",
    "# Границы промежутка mu плюс-минус 4 sigma\n",
    "arange = np.arange((mu - 4 * sigma),(mu + 4 * sigma),1)\n",
    "\n",
    "# Используется синия линия ширины 2\n",
    "plt.plot(arange, st.norm.pdf(arange, mu, sigma), 'b-', lw=2)\n",
    "plt.axvline(x, color='red')\n",
    "plt.axvline(x=mu, color='green')\n",
    "plt.xticks(rotation=90)\n",
    "plt.xlabel('Ось Х', fontsize=10, fontweight=\"bold\")\n",
    "plt.ylabel('Oсь Y', fontsize=10, fontweight=\"bold\")\n",
    "plt.show()"
   ]
  },
  {
   "cell_type": "markdown",
   "id": "66c475f4-45d5-4739-9add-92c2877a6a5c",
   "metadata": {},
   "source": [
    "<div style=\"color: #000000; border-left: 3px solid #DCDCDC; border-right: 3px solid #DCDCDC; margin-left: 20px; padding-left: 10px\">\n",
    "\n",
    "**Вывод:** \n",
    "- Вероятность того, что не более 399,5 тысяч пользователей откроют уведомление, составляет 15,37%. Это означает, что большая часть пользователей откроет уведомление, что может повысить эффективность коммуникации с бизнесом.\n",
    "\n",
    "</div>"
   ]
  },
  {
   "cell_type": "markdown",
   "id": "189f43cc-cd33-4af6-9810-53794968460d",
   "metadata": {},
   "source": [
    "## Общий вывод  \n",
    "<div style=\"color: #000000; border-radius: 10px; box-shadow: 2px 2px 4px; border: 1px solid; background:#DCDCDC; padding: 10px\">\n",
    "<h4><font color=\"#0000CD\">Общий вывод:</font></h4>\n",
    "​\n",
    "1. Были открыты 3 датафрейма:\n",
    "    - в первом **`users_go`** 1565 строк и 5 столбцов, пропусков не обнаружено, найдены дубликаты, в последствии устранены.\n",
    "    - во втором **`rides_go`** 18068 строк и 4 столбца, пропусков и дубликатов не обнаружено.\n",
    "    - в третьем **`subscriptions_go`** 2 строки и 4 столбца, пропусков и дубликатов не обнаружено.\n",
    "    \n",
    "​\n",
    "2. В процессе предобработки данных столбец `date` в датафрейме **`rides_go`** был приведен к типу pandas datetime, столбец `distance` округлен до 2х знаков после запятой, так же был создан столбец с номером месяца `date_month`. В датафрейме **`users_go`** устранены дубликаты методом `drop_duplicates()`.\n",
    "​\n",
    "3. В процессе исследовательского анализа данных были построены графики и гистрограммы:\n",
    "    - частота встречаемости городов: на основне данного графика можно сделать вывод, что в первую пятерку городов входит 4 южных города в которых на первом месте Пятигорск, исключение составляет Екатеринбург на втором месте, связано с это с наиболее длинным сезоном, в которых сезон проката длинее.\n",
    "    - Сделана диаграмма соотношения пользователей с подпиской и без, по данной информации видно, что количество пользователей без подписки превышает количество пользователей с подпиской.\n",
    "    - Построено соотношение пользователей по возрасту, в основном пользователи от 20 до 29 лет, самые активные 25 лет.\n",
    "    - Визуализировано число поездок в зависимости от дальности поездки, самый большой пик составляет медиана 3133 метра, имеется еще один пик на 700 метров, имеются аномальные значения после 5900 метров.\n",
    "    - Составлено соотношение и построен график по продолжительности поездки пользователей, самые частые составляют 18 минут, меньше всего занимают поездки 36 минут.\n",
    "4. На четвертом шаге был создан единый датафрейм **`general_table`** о пользователях, поездках и подписках с помощью объединения таблиц методом `merge()`, проверено количество строк **18068**\n",
    "​\n",
    "    - созданы два датафрейма с подпиской и без: `general_table_free` и `general_table_ultra`.\n",
    "    - визуализированна информация о расстоянии и времени поездок для пользователей обеих категорий: данная информация показывает, что наиболее большое расстояние проезжают пользователи с подпиской, но время поездки больше у пользователей без подписки.\n",
    "5. На пятом шаге был создан датафрейм **`user_gener_table`** с агрегированными данными о поездках на основе датафрейма из шага 4, было найдено сумарное расстояние, количество поездок и сумарное время для каждого пользователя за каждый месяц. Так же был добавлен столбец `monthly_revenue` с помесячной выручкой, которую принес каждый пользователь.\n",
    "​\n",
    "6. На шестом шаге были проверены гипотезы:\n",
    "​\n",
    "   - было выяснено, что пользователи с подпиской тратят больше времени на поездки, были проверены 2 датафрейма `general_table_ultra` и `general_table_free` ,полученное значение `p-value:` оказалось меньше заданного уровня значимости. Бизнесу выгодно, когда пользователи с подпиской тратят больше времени на поездки, потому что это увеличивает их лояльность к бренду и частоту использования его услуг. Подписчики получают комплексные скидки, эксклюзивные форматы подписок и доступ к нескольким сервисам одновременно, что делает их более привязанными к компании и готовыми тратить больше денег на её услуги. \n",
    "   - среднее расстояние пользователей с подпиской равно 3130 метров, полученное значение `p-value:` больше заданного уровня значимости, поэтому не получилось отвергнуть нулевую гипотезу. Расстояние 3130 выгодно бизнесу с точки зрения износа самокатов, потому что на таком расстоянии стоимость аренды самоката покрывает его износ. Это позволяет бизнесу получать прибыль и компенсировать затраты на обслуживание и ремонт самокатов.\n",
    "   - после проверки гипотезы помесячной выручки стало известно, что выручка от пользователей с подпиской выше, чем от пользователей без подписки, `p-value:` оказался ниже уровня значимости, скорее всего это связано с дополнительными функциями, которые предоставляет платная подписка.\n",
    "   - был сформулирован вывод о количестве обращений в поддержку, гипотеза была бы проверена с помощью метода `scipy.stats.ttest_rel()`, в качестве аргумента следовало бы указать `alternative='less'`, выборки должны быть одинаковыми по размеру.\n",
    " \n",
    "7. На седьмом этапе было определено, что для обеспечения вероятности невыполнения плана менее 5% отдел маркетинга должен разослать 1093 промокода. Также было установлено, что при отправке уведомления 1 миллиону пользователей с вероятностью открытия 40% не более 399,5 тысяч пользователей откроют уведомление, что составляет 15,37%, Это означает, что большая часть пользователей не откроет уведомление, что может снизить эффективность коммуникации с бизнесом.\n",
    "​\n",
    "8. Сравнение показателей суммарной годовой выручки и среднемесячной выручки для каждого тарифа показывает, что пользователи с подпиской приносят больше дохода, чем пользователи без подписки. Условно, на пользователях с подпиской мы заработали 1644537₽ за год, а на пользователях без подписки — 2234104₽. В среднем, пользователь с подпиской приносит 362.79₽ в месяц, а пользователь без подписки — 328.64₽ рублей.\n",
    "Таким образом, бизнесу рекомендуется сосредоточиться на привлечении и удержании пользователей с подпиской, так как они являются более ценными клиентами и приносят больше дохода, например: \n",
    "    - предложить дополнительные преимущества и скидки для пользователей с подпиской, чтобы стимулировать их оставаться активными.\n",
    "    - активно продвигать сервис среди потенциальных клиентов, используя различные маркетинговые каналы и рекламные кампании.\n",
    "    - проводить регулярные акции и скидки для новых пользователей, чтобы привлечь больше клиентов.\n",
    "\n",
    "По каждому разделу написаны предварительные выводы и разъяснения.\n",
    "</div>"
   ]
  },
  {
   "cell_type": "code",
   "execution_count": null,
   "id": "7c9dada1-ce12-47b8-9a97-abcac5b856a3",
   "metadata": {},
   "outputs": [],
   "source": []
  }
 ],
 "metadata": {
  "kernelspec": {
   "display_name": "Python 3 (ipykernel)",
   "language": "python",
   "name": "python3"
  },
  "language_info": {
   "codemirror_mode": {
    "name": "ipython",
    "version": 3
   },
   "file_extension": ".py",
   "mimetype": "text/x-python",
   "name": "python",
   "nbconvert_exporter": "python",
   "pygments_lexer": "ipython3",
   "version": "3.9.18"
  }
 },
 "nbformat": 4,
 "nbformat_minor": 5
}
